{
 "cells": [
  {
   "cell_type": "markdown",
   "metadata": {},
   "source": [
    "# Notebook for defining predicted counts master tables"
   ]
  },
  {
   "cell_type": "markdown",
   "metadata": {},
   "source": [
    "## Import packages"
   ]
  },
  {
   "cell_type": "code",
   "execution_count": 1,
   "metadata": {},
   "outputs": [],
   "source": [
    "import numpy as np\n",
    "import pandas as pd\n",
    "import sys\n",
    "import os"
   ]
  },
  {
   "cell_type": "code",
   "execution_count": 2,
   "metadata": {},
   "outputs": [],
   "source": [
    "# Adding module folder to system paths\n",
    "module_path = os.path.abspath(os.path.join('..'))\n",
    "if module_path not in sys.path:\n",
    "    sys.path.append(module_path)"
   ]
  },
  {
   "cell_type": "code",
   "execution_count": 3,
   "metadata": {},
   "outputs": [],
   "source": [
    "from modules import rates\n",
    "from modules import load"
   ]
  },
  {
   "cell_type": "markdown",
   "metadata": {},
   "source": [
    "## Load training dataframes"
   ]
  },
  {
   "cell_type": "code",
   "execution_count": 4,
   "metadata": {},
   "outputs": [],
   "source": [
    "counts_pre_omicron = load.load_synonymous_muts('../results/curated/curated_mut_counts_pre_omicron.csv')"
   ]
  },
  {
   "cell_type": "code",
   "execution_count": 5,
   "metadata": {},
   "outputs": [],
   "source": [
    "counts_omicron = load.load_synonymous_muts('../results/curated/curated_mut_counts_omicron.csv')"
   ]
  },
  {
   "cell_type": "markdown",
   "metadata": {},
   "source": [
    "## Initialize rates objects"
   ]
  },
  {
   "cell_type": "code",
   "execution_count": 6,
   "metadata": {},
   "outputs": [],
   "source": [
    "rate_pre_om = rates.Rates()\n",
    "rate_om = rates.Rates()"
   ]
  },
  {
   "cell_type": "markdown",
   "metadata": {},
   "source": [
    "## Populate rates and add predicted counts"
   ]
  },
  {
   "cell_type": "code",
   "execution_count": 7,
   "metadata": {},
   "outputs": [],
   "source": [
    "rate_pre_om.populate_rates(counts_pre_omicron)\n",
    "rate_om.populate_rates(counts_omicron)"
   ]
  },
  {
   "cell_type": "code",
   "execution_count": 8,
   "metadata": {},
   "outputs": [],
   "source": [
    "rate_pre_om.predicted_counts(counts_pre_omicron)\n",
    "rate_om.predicted_counts(counts_omicron)"
   ]
  },
  {
   "cell_type": "code",
   "execution_count": 9,
   "metadata": {},
   "outputs": [
    {
     "data": {
      "text/html": [
       "<div>\n",
       "<style scoped>\n",
       "    .dataframe tbody tr th:only-of-type {\n",
       "        vertical-align: middle;\n",
       "    }\n",
       "\n",
       "    .dataframe tbody tr th {\n",
       "        vertical-align: top;\n",
       "    }\n",
       "\n",
       "    .dataframe thead th {\n",
       "        text-align: right;\n",
       "    }\n",
       "</style>\n",
       "<table border=\"1\" class=\"dataframe\">\n",
       "  <thead>\n",
       "    <tr style=\"text-align: right;\">\n",
       "      <th></th>\n",
       "      <th>mut_type</th>\n",
       "      <th>motif</th>\n",
       "      <th>unpaired</th>\n",
       "      <th>nt_site_before_boundary</th>\n",
       "      <th>rate</th>\n",
       "      <th>condition</th>\n",
       "      <th>predicted_count</th>\n",
       "      <th>cond_count</th>\n",
       "    </tr>\n",
       "  </thead>\n",
       "  <tbody>\n",
       "    <tr>\n",
       "      <th>0</th>\n",
       "      <td>AC</td>\n",
       "      <td>AAA</td>\n",
       "      <td>0</td>\n",
       "      <td>False</td>\n",
       "      <td>0.110585</td>\n",
       "      <td>(AC, AAA, 0, False)</td>\n",
       "      <td>13.247765</td>\n",
       "      <td>0</td>\n",
       "    </tr>\n",
       "    <tr>\n",
       "      <th>1</th>\n",
       "      <td>AC</td>\n",
       "      <td>AAA</td>\n",
       "      <td>1</td>\n",
       "      <td>False</td>\n",
       "      <td>0.128033</td>\n",
       "      <td>(AC, AAA, 1, False)</td>\n",
       "      <td>15.337980</td>\n",
       "      <td>0</td>\n",
       "    </tr>\n",
       "    <tr>\n",
       "      <th>2</th>\n",
       "      <td>AC</td>\n",
       "      <td>AAC</td>\n",
       "      <td>0</td>\n",
       "      <td>False</td>\n",
       "      <td>0.097450</td>\n",
       "      <td>(AC, AAC, 0, False)</td>\n",
       "      <td>11.674235</td>\n",
       "      <td>0</td>\n",
       "    </tr>\n",
       "    <tr>\n",
       "      <th>3</th>\n",
       "      <td>AC</td>\n",
       "      <td>AAC</td>\n",
       "      <td>1</td>\n",
       "      <td>False</td>\n",
       "      <td>0.112919</td>\n",
       "      <td>(AC, AAC, 1, False)</td>\n",
       "      <td>13.527447</td>\n",
       "      <td>0</td>\n",
       "    </tr>\n",
       "    <tr>\n",
       "      <th>4</th>\n",
       "      <td>AC</td>\n",
       "      <td>AAG</td>\n",
       "      <td>0</td>\n",
       "      <td>False</td>\n",
       "      <td>0.189517</td>\n",
       "      <td>(AC, AAG, 0, False)</td>\n",
       "      <td>22.703676</td>\n",
       "      <td>21</td>\n",
       "    </tr>\n",
       "  </tbody>\n",
       "</table>\n",
       "</div>"
      ],
      "text/plain": [
       "  mut_type motif  unpaired  nt_site_before_boundary      rate  \\\n",
       "0       AC   AAA         0                    False  0.110585   \n",
       "1       AC   AAA         1                    False  0.128033   \n",
       "2       AC   AAC         0                    False  0.097450   \n",
       "3       AC   AAC         1                    False  0.112919   \n",
       "4       AC   AAG         0                    False  0.189517   \n",
       "\n",
       "             condition  predicted_count  cond_count  \n",
       "0  (AC, AAA, 0, False)        13.247765           0  \n",
       "1  (AC, AAA, 1, False)        15.337980           0  \n",
       "2  (AC, AAC, 0, False)        11.674235           0  \n",
       "3  (AC, AAC, 1, False)        13.527447           0  \n",
       "4  (AC, AAG, 0, False)        22.703676          21  "
      ]
     },
     "execution_count": 9,
     "metadata": {},
     "output_type": "execute_result"
    }
   ],
   "source": [
    "rate_pre_om.rates.head()"
   ]
  },
  {
   "cell_type": "code",
   "execution_count": 10,
   "metadata": {},
   "outputs": [
    {
     "data": {
      "text/html": [
       "<div>\n",
       "<style scoped>\n",
       "    .dataframe tbody tr th:only-of-type {\n",
       "        vertical-align: middle;\n",
       "    }\n",
       "\n",
       "    .dataframe tbody tr th {\n",
       "        vertical-align: top;\n",
       "    }\n",
       "\n",
       "    .dataframe thead th {\n",
       "        text-align: right;\n",
       "    }\n",
       "</style>\n",
       "<table border=\"1\" class=\"dataframe\">\n",
       "  <thead>\n",
       "    <tr style=\"text-align: right;\">\n",
       "      <th></th>\n",
       "      <th>mut_type</th>\n",
       "      <th>motif</th>\n",
       "      <th>unpaired</th>\n",
       "      <th>nt_site_before_boundary</th>\n",
       "      <th>rate</th>\n",
       "      <th>condition</th>\n",
       "      <th>predicted_count</th>\n",
       "      <th>cond_count</th>\n",
       "    </tr>\n",
       "  </thead>\n",
       "  <tbody>\n",
       "    <tr>\n",
       "      <th>0</th>\n",
       "      <td>AC</td>\n",
       "      <td>AAA</td>\n",
       "      <td>0</td>\n",
       "      <td>False</td>\n",
       "      <td>0.084546</td>\n",
       "      <td>(AC, AAA, 0, False)</td>\n",
       "      <td>13.947653</td>\n",
       "      <td>0</td>\n",
       "    </tr>\n",
       "    <tr>\n",
       "      <th>1</th>\n",
       "      <td>AC</td>\n",
       "      <td>AAA</td>\n",
       "      <td>1</td>\n",
       "      <td>False</td>\n",
       "      <td>0.098780</td>\n",
       "      <td>(AC, AAA, 1, False)</td>\n",
       "      <td>16.295930</td>\n",
       "      <td>0</td>\n",
       "    </tr>\n",
       "    <tr>\n",
       "      <th>2</th>\n",
       "      <td>AC</td>\n",
       "      <td>AAC</td>\n",
       "      <td>0</td>\n",
       "      <td>False</td>\n",
       "      <td>0.072427</td>\n",
       "      <td>(AC, AAC, 0, False)</td>\n",
       "      <td>11.948311</td>\n",
       "      <td>0</td>\n",
       "    </tr>\n",
       "    <tr>\n",
       "      <th>3</th>\n",
       "      <td>AC</td>\n",
       "      <td>AAC</td>\n",
       "      <td>1</td>\n",
       "      <td>False</td>\n",
       "      <td>0.084707</td>\n",
       "      <td>(AC, AAC, 1, False)</td>\n",
       "      <td>13.974226</td>\n",
       "      <td>0</td>\n",
       "    </tr>\n",
       "    <tr>\n",
       "      <th>4</th>\n",
       "      <td>AC</td>\n",
       "      <td>AAG</td>\n",
       "      <td>0</td>\n",
       "      <td>False</td>\n",
       "      <td>0.145828</td>\n",
       "      <td>(AC, AAG, 0, False)</td>\n",
       "      <td>24.057343</td>\n",
       "      <td>21</td>\n",
       "    </tr>\n",
       "  </tbody>\n",
       "</table>\n",
       "</div>"
      ],
      "text/plain": [
       "  mut_type motif  unpaired  nt_site_before_boundary      rate  \\\n",
       "0       AC   AAA         0                    False  0.084546   \n",
       "1       AC   AAA         1                    False  0.098780   \n",
       "2       AC   AAC         0                    False  0.072427   \n",
       "3       AC   AAC         1                    False  0.084707   \n",
       "4       AC   AAG         0                    False  0.145828   \n",
       "\n",
       "             condition  predicted_count  cond_count  \n",
       "0  (AC, AAA, 0, False)        13.947653           0  \n",
       "1  (AC, AAA, 1, False)        16.295930           0  \n",
       "2  (AC, AAC, 0, False)        11.948311           0  \n",
       "3  (AC, AAC, 1, False)        13.974226           0  \n",
       "4  (AC, AAG, 0, False)        24.057343          21  "
      ]
     },
     "execution_count": 10,
     "metadata": {},
     "output_type": "execute_result"
    }
   ],
   "source": [
    "rate_om.rates.head()"
   ]
  },
  {
   "cell_type": "markdown",
   "metadata": {},
   "source": [
    "## Formatting master tables"
   ]
  },
  {
   "cell_type": "markdown",
   "metadata": {},
   "source": [
    "### Adding lightswitch boundaries"
   ]
  },
  {
   "cell_type": "code",
   "execution_count": 11,
   "metadata": {},
   "outputs": [],
   "source": [
    "rate_pre_om.rates['nt_site_boundary'] = np.zeros(rate_pre_om.rates.shape[0], int)\n",
    "rate_om.rates['nt_site_boundary'] = np.zeros(rate_om.rates.shape[0], int)"
   ]
  },
  {
   "cell_type": "code",
   "execution_count": 12,
   "metadata": {},
   "outputs": [],
   "source": [
    "rate_pre_om.rates.loc[rate_pre_om.rates.mut_type == 'CT', 'nt_site_boundary'] = int(13467)\n",
    "rate_pre_om.rates.loc[(rate_pre_om.rates.mut_type == 'AT') | (rate_pre_om.rates.mut_type == 'GC') | (rate_pre_om.rates.mut_type == 'CG'), 'nt_site_boundary'] = int(21562)"
   ]
  },
  {
   "cell_type": "code",
   "execution_count": 13,
   "metadata": {},
   "outputs": [],
   "source": [
    "rate_om.rates.loc[rate_om.rates.mut_type == 'CT', 'nt_site_boundary'] = int(13467)\n",
    "rate_om.rates.loc[(rate_om.rates.mut_type == 'AT') | (rate_om.rates.mut_type == 'GC') | (rate_om.rates.mut_type == 'CG'), 'nt_site_boundary'] = int(21562)"
   ]
  },
  {
   "cell_type": "markdown",
   "metadata": {},
   "source": [
    "## Save master tables"
   ]
  },
  {
   "cell_type": "code",
   "execution_count": 14,
   "metadata": {},
   "outputs": [],
   "source": [
    "cols = ['mut_type', 'motif', 'unpaired', 'nt_site_boundary', 'nt_site_before_boundary', 'rate', 'predicted_count']"
   ]
  },
  {
   "cell_type": "code",
   "execution_count": 15,
   "metadata": {},
   "outputs": [
    {
     "data": {
      "text/html": [
       "<div>\n",
       "<style scoped>\n",
       "    .dataframe tbody tr th:only-of-type {\n",
       "        vertical-align: middle;\n",
       "    }\n",
       "\n",
       "    .dataframe tbody tr th {\n",
       "        vertical-align: top;\n",
       "    }\n",
       "\n",
       "    .dataframe thead th {\n",
       "        text-align: right;\n",
       "    }\n",
       "</style>\n",
       "<table border=\"1\" class=\"dataframe\">\n",
       "  <thead>\n",
       "    <tr style=\"text-align: right;\">\n",
       "      <th></th>\n",
       "      <th>mut_type</th>\n",
       "      <th>motif</th>\n",
       "      <th>unpaired</th>\n",
       "      <th>nt_site_boundary</th>\n",
       "      <th>nt_site_before_boundary</th>\n",
       "      <th>rate</th>\n",
       "      <th>predicted_count</th>\n",
       "    </tr>\n",
       "  </thead>\n",
       "  <tbody>\n",
       "    <tr>\n",
       "      <th>0</th>\n",
       "      <td>AC</td>\n",
       "      <td>AAA</td>\n",
       "      <td>0</td>\n",
       "      <td>0</td>\n",
       "      <td>False</td>\n",
       "      <td>0.110585</td>\n",
       "      <td>13.247765</td>\n",
       "    </tr>\n",
       "    <tr>\n",
       "      <th>1</th>\n",
       "      <td>AC</td>\n",
       "      <td>AAA</td>\n",
       "      <td>1</td>\n",
       "      <td>0</td>\n",
       "      <td>False</td>\n",
       "      <td>0.128033</td>\n",
       "      <td>15.337980</td>\n",
       "    </tr>\n",
       "    <tr>\n",
       "      <th>2</th>\n",
       "      <td>AC</td>\n",
       "      <td>AAC</td>\n",
       "      <td>0</td>\n",
       "      <td>0</td>\n",
       "      <td>False</td>\n",
       "      <td>0.097450</td>\n",
       "      <td>11.674235</td>\n",
       "    </tr>\n",
       "    <tr>\n",
       "      <th>3</th>\n",
       "      <td>AC</td>\n",
       "      <td>AAC</td>\n",
       "      <td>1</td>\n",
       "      <td>0</td>\n",
       "      <td>False</td>\n",
       "      <td>0.112919</td>\n",
       "      <td>13.527447</td>\n",
       "    </tr>\n",
       "    <tr>\n",
       "      <th>4</th>\n",
       "      <td>AC</td>\n",
       "      <td>AAG</td>\n",
       "      <td>0</td>\n",
       "      <td>0</td>\n",
       "      <td>False</td>\n",
       "      <td>0.189517</td>\n",
       "      <td>22.703676</td>\n",
       "    </tr>\n",
       "  </tbody>\n",
       "</table>\n",
       "</div>"
      ],
      "text/plain": [
       "  mut_type motif  unpaired  nt_site_boundary  nt_site_before_boundary  \\\n",
       "0       AC   AAA         0                 0                    False   \n",
       "1       AC   AAA         1                 0                    False   \n",
       "2       AC   AAC         0                 0                    False   \n",
       "3       AC   AAC         1                 0                    False   \n",
       "4       AC   AAG         0                 0                    False   \n",
       "\n",
       "       rate  predicted_count  \n",
       "0  0.110585        13.247765  \n",
       "1  0.128033        15.337980  \n",
       "2  0.097450        11.674235  \n",
       "3  0.112919        13.527447  \n",
       "4  0.189517        22.703676  "
      ]
     },
     "execution_count": 15,
     "metadata": {},
     "output_type": "execute_result"
    }
   ],
   "source": [
    "rate_pre_om.rates[cols].head()"
   ]
  },
  {
   "cell_type": "code",
   "execution_count": 16,
   "metadata": {},
   "outputs": [],
   "source": [
    "rate_pre_om.rates.drop(columns=['condition'], inplace=True)\n",
    "rate_pre_om.rates[cols].to_csv('../results/master_tables/master_table_pre_omicron.csv', index=False)"
   ]
  },
  {
   "cell_type": "code",
   "execution_count": 17,
   "metadata": {},
   "outputs": [],
   "source": [
    "rate_om.rates.drop(columns=['condition'], inplace=True)\n",
    "rate_om.rates[cols].to_csv('../results/master_tables/master_table_omicron.csv', index=False)"
   ]
  },
  {
   "cell_type": "code",
   "execution_count": null,
   "metadata": {},
   "outputs": [],
   "source": []
  }
 ],
 "metadata": {
  "kernelspec": {
   "display_name": "SARS2-refined-fitness",
   "language": "python",
   "name": "python3"
  },
  "language_info": {
   "codemirror_mode": {
    "name": "ipython",
    "version": 3
   },
   "file_extension": ".py",
   "mimetype": "text/x-python",
   "name": "python",
   "nbconvert_exporter": "python",
   "pygments_lexer": "ipython3",
   "version": "3.13.0"
  }
 },
 "nbformat": 4,
 "nbformat_minor": 2
}
