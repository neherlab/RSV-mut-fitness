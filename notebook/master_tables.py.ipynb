{
 "cells": [
  {
   "cell_type": "markdown",
   "metadata": {},
   "source": [
    "# Notebook for defining predicted counts master tables"
   ]
  },
  {
   "cell_type": "markdown",
   "metadata": {},
   "source": [
    "## Snakemake input"
   ]
  },
  {
   "cell_type": "code",
   "execution_count": null,
   "metadata": {},
   "outputs": [],
   "source": [
    "pre_omicron_counts = snakemake.input.pre_omicron_counts\n",
    "omicron_counts = snakemake.input.omicron_counts\n",
    "pre_omicron_ms = snakemake.output.pre_omicron_ms\n",
    "omicron_ms = snakemake.output.omicron_ms"
   ]
  },
  {
   "cell_type": "markdown",
   "metadata": {},
   "source": [
    "## Import packages"
   ]
  },
  {
   "cell_type": "code",
   "execution_count": 1,
   "metadata": {},
   "outputs": [],
   "source": [
    "import numpy as np\n",
    "import pandas as pd\n",
    "import sys\n",
    "import os"
   ]
  },
  {
   "cell_type": "code",
   "execution_count": 2,
   "metadata": {},
   "outputs": [],
   "source": [
    "# Adding module folder to system paths\n",
    "module_path = os.path.abspath(os.path.join('..'))\n",
    "if module_path not in sys.path:\n",
    "    sys.path.append(module_path)"
   ]
  },
  {
   "cell_type": "code",
   "execution_count": 3,
   "metadata": {},
   "outputs": [],
   "source": [
    "from modules import rates\n",
    "from modules import load"
   ]
  },
  {
   "cell_type": "markdown",
   "metadata": {},
   "source": [
    "## Load training dataframes"
   ]
  },
  {
   "cell_type": "code",
   "execution_count": 4,
   "metadata": {},
   "outputs": [],
   "source": [
    "counts_pre_omicron = load.load_synonymous_muts(pre_omicron_counts)"
   ]
  },
  {
   "cell_type": "code",
   "execution_count": 5,
   "metadata": {},
   "outputs": [],
   "source": [
    "counts_omicron = load.load_synonymous_muts(omicron_counts)"
   ]
  },
  {
   "cell_type": "markdown",
   "metadata": {},
   "source": [
    "## Initialize rates objects"
   ]
  },
  {
   "cell_type": "code",
   "execution_count": 6,
   "metadata": {},
   "outputs": [],
   "source": [
    "rate_pre_om = rates.Rates()\n",
    "rate_om = rates.Rates()"
   ]
  },
  {
   "cell_type": "markdown",
   "metadata": {},
   "source": [
    "## Populate rates and add predicted counts"
   ]
  },
  {
   "cell_type": "code",
   "execution_count": 7,
   "metadata": {},
   "outputs": [],
   "source": [
    "rate_pre_om.populate_rates(counts_pre_omicron)\n",
    "rate_om.populate_rates(counts_omicron)"
   ]
  },
  {
   "cell_type": "code",
   "execution_count": 14,
   "metadata": {},
   "outputs": [],
   "source": [
    "rate_pre_om.rates[\"cond_count\"] = rate_pre_om.genome_composition(counts_pre_omicron)"
   ]
  },
  {
   "cell_type": "code",
   "execution_count": 15,
   "metadata": {},
   "outputs": [],
   "source": [
    "rate_om.rates[\"cond_count\"] = rate_om.genome_composition(counts_omicron)"
   ]
  },
  {
   "cell_type": "code",
   "execution_count": 16,
   "metadata": {},
   "outputs": [
    {
     "data": {
      "text/html": [
       "<div>\n",
       "<style scoped>\n",
       "    .dataframe tbody tr th:only-of-type {\n",
       "        vertical-align: middle;\n",
       "    }\n",
       "\n",
       "    .dataframe tbody tr th {\n",
       "        vertical-align: top;\n",
       "    }\n",
       "\n",
       "    .dataframe thead th {\n",
       "        text-align: right;\n",
       "    }\n",
       "</style>\n",
       "<table border=\"1\" class=\"dataframe\">\n",
       "  <thead>\n",
       "    <tr style=\"text-align: right;\">\n",
       "      <th></th>\n",
       "      <th>mut_type</th>\n",
       "      <th>motif</th>\n",
       "      <th>unpaired</th>\n",
       "      <th>nt_site_before_boundary</th>\n",
       "      <th>rate</th>\n",
       "      <th>predicted_count</th>\n",
       "      <th>condition</th>\n",
       "      <th>residual</th>\n",
       "      <th>cond_count</th>\n",
       "    </tr>\n",
       "  </thead>\n",
       "  <tbody>\n",
       "    <tr>\n",
       "      <th>0</th>\n",
       "      <td>AC</td>\n",
       "      <td>AAA</td>\n",
       "      <td>0</td>\n",
       "      <td>False</td>\n",
       "      <td>0.110585</td>\n",
       "      <td>10.517707</td>\n",
       "      <td>(AC, AAA, 0, False)</td>\n",
       "      <td>0.0</td>\n",
       "      <td>0</td>\n",
       "    </tr>\n",
       "    <tr>\n",
       "      <th>1</th>\n",
       "      <td>AC</td>\n",
       "      <td>AAA</td>\n",
       "      <td>1</td>\n",
       "      <td>False</td>\n",
       "      <td>0.128033</td>\n",
       "      <td>12.177177</td>\n",
       "      <td>(AC, AAA, 1, False)</td>\n",
       "      <td>0.0</td>\n",
       "      <td>0</td>\n",
       "    </tr>\n",
       "    <tr>\n",
       "      <th>2</th>\n",
       "      <td>AC</td>\n",
       "      <td>AAC</td>\n",
       "      <td>0</td>\n",
       "      <td>False</td>\n",
       "      <td>0.097450</td>\n",
       "      <td>9.268445</td>\n",
       "      <td>(AC, AAC, 0, False)</td>\n",
       "      <td>0.0</td>\n",
       "      <td>0</td>\n",
       "    </tr>\n",
       "    <tr>\n",
       "      <th>3</th>\n",
       "      <td>AC</td>\n",
       "      <td>AAC</td>\n",
       "      <td>1</td>\n",
       "      <td>False</td>\n",
       "      <td>0.112919</td>\n",
       "      <td>10.739754</td>\n",
       "      <td>(AC, AAC, 1, False)</td>\n",
       "      <td>0.0</td>\n",
       "      <td>0</td>\n",
       "    </tr>\n",
       "    <tr>\n",
       "      <th>4</th>\n",
       "      <td>AC</td>\n",
       "      <td>AAG</td>\n",
       "      <td>0</td>\n",
       "      <td>False</td>\n",
       "      <td>0.189517</td>\n",
       "      <td>18.024974</td>\n",
       "      <td>(AC, AAG, 0, False)</td>\n",
       "      <td>0.0</td>\n",
       "      <td>21</td>\n",
       "    </tr>\n",
       "  </tbody>\n",
       "</table>\n",
       "</div>"
      ],
      "text/plain": [
       "  mut_type motif  unpaired  nt_site_before_boundary      rate  \\\n",
       "0       AC   AAA         0                    False  0.110585   \n",
       "1       AC   AAA         1                    False  0.128033   \n",
       "2       AC   AAC         0                    False  0.097450   \n",
       "3       AC   AAC         1                    False  0.112919   \n",
       "4       AC   AAG         0                    False  0.189517   \n",
       "\n",
       "   predicted_count            condition  residual  cond_count  \n",
       "0        10.517707  (AC, AAA, 0, False)       0.0           0  \n",
       "1        12.177177  (AC, AAA, 1, False)       0.0           0  \n",
       "2         9.268445  (AC, AAC, 0, False)       0.0           0  \n",
       "3        10.739754  (AC, AAC, 1, False)       0.0           0  \n",
       "4        18.024974  (AC, AAG, 0, False)       0.0          21  "
      ]
     },
     "execution_count": 16,
     "metadata": {},
     "output_type": "execute_result"
    }
   ],
   "source": [
    "rate_pre_om.rates.head()"
   ]
  },
  {
   "cell_type": "code",
   "execution_count": 17,
   "metadata": {},
   "outputs": [
    {
     "data": {
      "text/html": [
       "<div>\n",
       "<style scoped>\n",
       "    .dataframe tbody tr th:only-of-type {\n",
       "        vertical-align: middle;\n",
       "    }\n",
       "\n",
       "    .dataframe tbody tr th {\n",
       "        vertical-align: top;\n",
       "    }\n",
       "\n",
       "    .dataframe thead th {\n",
       "        text-align: right;\n",
       "    }\n",
       "</style>\n",
       "<table border=\"1\" class=\"dataframe\">\n",
       "  <thead>\n",
       "    <tr style=\"text-align: right;\">\n",
       "      <th></th>\n",
       "      <th>mut_type</th>\n",
       "      <th>motif</th>\n",
       "      <th>unpaired</th>\n",
       "      <th>nt_site_before_boundary</th>\n",
       "      <th>rate</th>\n",
       "      <th>predicted_count</th>\n",
       "      <th>condition</th>\n",
       "      <th>cond_count</th>\n",
       "    </tr>\n",
       "  </thead>\n",
       "  <tbody>\n",
       "    <tr>\n",
       "      <th>0</th>\n",
       "      <td>AC</td>\n",
       "      <td>AAA</td>\n",
       "      <td>0</td>\n",
       "      <td>False</td>\n",
       "      <td>0.084546</td>\n",
       "      <td>11.307477</td>\n",
       "      <td>(AC, AAA, 0, False)</td>\n",
       "      <td>0</td>\n",
       "    </tr>\n",
       "    <tr>\n",
       "      <th>1</th>\n",
       "      <td>AC</td>\n",
       "      <td>AAA</td>\n",
       "      <td>1</td>\n",
       "      <td>False</td>\n",
       "      <td>0.098780</td>\n",
       "      <td>13.211244</td>\n",
       "      <td>(AC, AAA, 1, False)</td>\n",
       "      <td>0</td>\n",
       "    </tr>\n",
       "    <tr>\n",
       "      <th>2</th>\n",
       "      <td>AC</td>\n",
       "      <td>AAC</td>\n",
       "      <td>0</td>\n",
       "      <td>False</td>\n",
       "      <td>0.072427</td>\n",
       "      <td>9.686594</td>\n",
       "      <td>(AC, AAC, 0, False)</td>\n",
       "      <td>0</td>\n",
       "    </tr>\n",
       "    <tr>\n",
       "      <th>3</th>\n",
       "      <td>AC</td>\n",
       "      <td>AAC</td>\n",
       "      <td>1</td>\n",
       "      <td>False</td>\n",
       "      <td>0.084707</td>\n",
       "      <td>11.329019</td>\n",
       "      <td>(AC, AAC, 1, False)</td>\n",
       "      <td>0</td>\n",
       "    </tr>\n",
       "    <tr>\n",
       "      <th>4</th>\n",
       "      <td>AC</td>\n",
       "      <td>AAG</td>\n",
       "      <td>0</td>\n",
       "      <td>False</td>\n",
       "      <td>0.145828</td>\n",
       "      <td>19.503485</td>\n",
       "      <td>(AC, AAG, 0, False)</td>\n",
       "      <td>21</td>\n",
       "    </tr>\n",
       "  </tbody>\n",
       "</table>\n",
       "</div>"
      ],
      "text/plain": [
       "  mut_type motif  unpaired  nt_site_before_boundary      rate  \\\n",
       "0       AC   AAA         0                    False  0.084546   \n",
       "1       AC   AAA         1                    False  0.098780   \n",
       "2       AC   AAC         0                    False  0.072427   \n",
       "3       AC   AAC         1                    False  0.084707   \n",
       "4       AC   AAG         0                    False  0.145828   \n",
       "\n",
       "   predicted_count            condition  cond_count  \n",
       "0        11.307477  (AC, AAA, 0, False)           0  \n",
       "1        13.211244  (AC, AAA, 1, False)           0  \n",
       "2         9.686594  (AC, AAC, 0, False)           0  \n",
       "3        11.329019  (AC, AAC, 1, False)           0  \n",
       "4        19.503485  (AC, AAG, 0, False)          21  "
      ]
     },
     "execution_count": 17,
     "metadata": {},
     "output_type": "execute_result"
    }
   ],
   "source": [
    "rate_om.rates.head()"
   ]
  },
  {
   "cell_type": "markdown",
   "metadata": {},
   "source": [
    "## Computing residual variance"
   ]
  },
  {
   "cell_type": "code",
   "execution_count": 18,
   "metadata": {},
   "outputs": [],
   "source": [
    "counts_pre_omicron['predicted_count'] = rate_pre_om.predicted_counts_by_clade(counts_pre_omicron)"
   ]
  },
  {
   "cell_type": "code",
   "execution_count": 19,
   "metadata": {},
   "outputs": [],
   "source": [
    "tau_pre_omicron = counts_pre_omicron.groupby(\"mut_type\").apply(\n",
    "        lambda x: np.mean(\n",
    "            (np.log(x.actual_count + 0.5) - np.log(x.predicted_count + 0.5)) ** 2\n",
    "        ), include_groups=False\n",
    "    )"
   ]
  },
  {
   "cell_type": "code",
   "execution_count": 20,
   "metadata": {},
   "outputs": [],
   "source": [
    "rate_pre_om.residual_variance(counts_pre_omicron, tau_pre_omicron)"
   ]
  },
  {
   "cell_type": "code",
   "execution_count": 21,
   "metadata": {},
   "outputs": [
    {
     "data": {
      "text/html": [
       "<div>\n",
       "<style scoped>\n",
       "    .dataframe tbody tr th:only-of-type {\n",
       "        vertical-align: middle;\n",
       "    }\n",
       "\n",
       "    .dataframe tbody tr th {\n",
       "        vertical-align: top;\n",
       "    }\n",
       "\n",
       "    .dataframe thead th {\n",
       "        text-align: right;\n",
       "    }\n",
       "</style>\n",
       "<table border=\"1\" class=\"dataframe\">\n",
       "  <thead>\n",
       "    <tr style=\"text-align: right;\">\n",
       "      <th></th>\n",
       "      <th>mut_type</th>\n",
       "      <th>motif</th>\n",
       "      <th>unpaired</th>\n",
       "      <th>nt_site_before_boundary</th>\n",
       "      <th>rate</th>\n",
       "      <th>predicted_count</th>\n",
       "      <th>condition</th>\n",
       "      <th>residual</th>\n",
       "      <th>cond_count</th>\n",
       "    </tr>\n",
       "  </thead>\n",
       "  <tbody>\n",
       "    <tr>\n",
       "      <th>0</th>\n",
       "      <td>AC</td>\n",
       "      <td>AAA</td>\n",
       "      <td>0</td>\n",
       "      <td>False</td>\n",
       "      <td>0.110585</td>\n",
       "      <td>10.517707</td>\n",
       "      <td>(AC, AAA, 0, False)</td>\n",
       "      <td>0.588548</td>\n",
       "      <td>0</td>\n",
       "    </tr>\n",
       "    <tr>\n",
       "      <th>1</th>\n",
       "      <td>AC</td>\n",
       "      <td>AAA</td>\n",
       "      <td>1</td>\n",
       "      <td>False</td>\n",
       "      <td>0.128033</td>\n",
       "      <td>12.177177</td>\n",
       "      <td>(AC, AAA, 1, False)</td>\n",
       "      <td>0.588548</td>\n",
       "      <td>0</td>\n",
       "    </tr>\n",
       "    <tr>\n",
       "      <th>2</th>\n",
       "      <td>AC</td>\n",
       "      <td>AAC</td>\n",
       "      <td>0</td>\n",
       "      <td>False</td>\n",
       "      <td>0.097450</td>\n",
       "      <td>9.268445</td>\n",
       "      <td>(AC, AAC, 0, False)</td>\n",
       "      <td>0.588548</td>\n",
       "      <td>0</td>\n",
       "    </tr>\n",
       "    <tr>\n",
       "      <th>3</th>\n",
       "      <td>AC</td>\n",
       "      <td>AAC</td>\n",
       "      <td>1</td>\n",
       "      <td>False</td>\n",
       "      <td>0.112919</td>\n",
       "      <td>10.739754</td>\n",
       "      <td>(AC, AAC, 1, False)</td>\n",
       "      <td>0.588548</td>\n",
       "      <td>0</td>\n",
       "    </tr>\n",
       "    <tr>\n",
       "      <th>4</th>\n",
       "      <td>AC</td>\n",
       "      <td>AAG</td>\n",
       "      <td>0</td>\n",
       "      <td>False</td>\n",
       "      <td>0.189517</td>\n",
       "      <td>18.024974</td>\n",
       "      <td>(AC, AAG, 0, False)</td>\n",
       "      <td>0.506125</td>\n",
       "      <td>21</td>\n",
       "    </tr>\n",
       "  </tbody>\n",
       "</table>\n",
       "</div>"
      ],
      "text/plain": [
       "  mut_type motif  unpaired  nt_site_before_boundary      rate  \\\n",
       "0       AC   AAA         0                    False  0.110585   \n",
       "1       AC   AAA         1                    False  0.128033   \n",
       "2       AC   AAC         0                    False  0.097450   \n",
       "3       AC   AAC         1                    False  0.112919   \n",
       "4       AC   AAG         0                    False  0.189517   \n",
       "\n",
       "   predicted_count            condition  residual  cond_count  \n",
       "0        10.517707  (AC, AAA, 0, False)  0.588548           0  \n",
       "1        12.177177  (AC, AAA, 1, False)  0.588548           0  \n",
       "2         9.268445  (AC, AAC, 0, False)  0.588548           0  \n",
       "3        10.739754  (AC, AAC, 1, False)  0.588548           0  \n",
       "4        18.024974  (AC, AAG, 0, False)  0.506125          21  "
      ]
     },
     "execution_count": 21,
     "metadata": {},
     "output_type": "execute_result"
    }
   ],
   "source": [
    "rate_pre_om.rates.head()"
   ]
  },
  {
   "cell_type": "code",
   "execution_count": 22,
   "metadata": {},
   "outputs": [],
   "source": [
    "counts_omicron['predicted_count'] = rate_om.predicted_counts_by_clade(counts_omicron)"
   ]
  },
  {
   "cell_type": "code",
   "execution_count": 23,
   "metadata": {},
   "outputs": [],
   "source": [
    "tau_omicron = counts_omicron.groupby(\"mut_type\").apply(\n",
    "        lambda x: np.mean(\n",
    "            (np.log(x.actual_count + 0.5) - np.log(x.predicted_count + 0.5)) ** 2\n",
    "        ), include_groups=False\n",
    "    )"
   ]
  },
  {
   "cell_type": "code",
   "execution_count": 24,
   "metadata": {},
   "outputs": [],
   "source": [
    "rate_om.residual_variance(counts_omicron, tau_omicron)"
   ]
  },
  {
   "cell_type": "code",
   "execution_count": 25,
   "metadata": {},
   "outputs": [
    {
     "data": {
      "text/html": [
       "<div>\n",
       "<style scoped>\n",
       "    .dataframe tbody tr th:only-of-type {\n",
       "        vertical-align: middle;\n",
       "    }\n",
       "\n",
       "    .dataframe tbody tr th {\n",
       "        vertical-align: top;\n",
       "    }\n",
       "\n",
       "    .dataframe thead th {\n",
       "        text-align: right;\n",
       "    }\n",
       "</style>\n",
       "<table border=\"1\" class=\"dataframe\">\n",
       "  <thead>\n",
       "    <tr style=\"text-align: right;\">\n",
       "      <th></th>\n",
       "      <th>mut_type</th>\n",
       "      <th>motif</th>\n",
       "      <th>unpaired</th>\n",
       "      <th>nt_site_before_boundary</th>\n",
       "      <th>rate</th>\n",
       "      <th>predicted_count</th>\n",
       "      <th>condition</th>\n",
       "      <th>cond_count</th>\n",
       "      <th>residual</th>\n",
       "    </tr>\n",
       "  </thead>\n",
       "  <tbody>\n",
       "    <tr>\n",
       "      <th>0</th>\n",
       "      <td>AC</td>\n",
       "      <td>AAA</td>\n",
       "      <td>0</td>\n",
       "      <td>False</td>\n",
       "      <td>0.084546</td>\n",
       "      <td>11.307477</td>\n",
       "      <td>(AC, AAA, 0, False)</td>\n",
       "      <td>0</td>\n",
       "      <td>0.642931</td>\n",
       "    </tr>\n",
       "    <tr>\n",
       "      <th>1</th>\n",
       "      <td>AC</td>\n",
       "      <td>AAA</td>\n",
       "      <td>1</td>\n",
       "      <td>False</td>\n",
       "      <td>0.098780</td>\n",
       "      <td>13.211244</td>\n",
       "      <td>(AC, AAA, 1, False)</td>\n",
       "      <td>0</td>\n",
       "      <td>0.642931</td>\n",
       "    </tr>\n",
       "    <tr>\n",
       "      <th>2</th>\n",
       "      <td>AC</td>\n",
       "      <td>AAC</td>\n",
       "      <td>0</td>\n",
       "      <td>False</td>\n",
       "      <td>0.072427</td>\n",
       "      <td>9.686594</td>\n",
       "      <td>(AC, AAC, 0, False)</td>\n",
       "      <td>0</td>\n",
       "      <td>0.642931</td>\n",
       "    </tr>\n",
       "    <tr>\n",
       "      <th>3</th>\n",
       "      <td>AC</td>\n",
       "      <td>AAC</td>\n",
       "      <td>1</td>\n",
       "      <td>False</td>\n",
       "      <td>0.084707</td>\n",
       "      <td>11.329019</td>\n",
       "      <td>(AC, AAC, 1, False)</td>\n",
       "      <td>0</td>\n",
       "      <td>0.642931</td>\n",
       "    </tr>\n",
       "    <tr>\n",
       "      <th>4</th>\n",
       "      <td>AC</td>\n",
       "      <td>AAG</td>\n",
       "      <td>0</td>\n",
       "      <td>False</td>\n",
       "      <td>0.145828</td>\n",
       "      <td>19.503485</td>\n",
       "      <td>(AC, AAG, 0, False)</td>\n",
       "      <td>21</td>\n",
       "      <td>0.874491</td>\n",
       "    </tr>\n",
       "  </tbody>\n",
       "</table>\n",
       "</div>"
      ],
      "text/plain": [
       "  mut_type motif  unpaired  nt_site_before_boundary      rate  \\\n",
       "0       AC   AAA         0                    False  0.084546   \n",
       "1       AC   AAA         1                    False  0.098780   \n",
       "2       AC   AAC         0                    False  0.072427   \n",
       "3       AC   AAC         1                    False  0.084707   \n",
       "4       AC   AAG         0                    False  0.145828   \n",
       "\n",
       "   predicted_count            condition  cond_count  residual  \n",
       "0        11.307477  (AC, AAA, 0, False)           0  0.642931  \n",
       "1        13.211244  (AC, AAA, 1, False)           0  0.642931  \n",
       "2         9.686594  (AC, AAC, 0, False)           0  0.642931  \n",
       "3        11.329019  (AC, AAC, 1, False)           0  0.642931  \n",
       "4        19.503485  (AC, AAG, 0, False)          21  0.874491  "
      ]
     },
     "execution_count": 25,
     "metadata": {},
     "output_type": "execute_result"
    }
   ],
   "source": [
    "rate_om.rates.head()"
   ]
  },
  {
   "cell_type": "markdown",
   "metadata": {},
   "source": [
    "## Formatting master tables"
   ]
  },
  {
   "cell_type": "markdown",
   "metadata": {},
   "source": [
    "### Adding lightswitch boundaries"
   ]
  },
  {
   "cell_type": "code",
   "execution_count": 26,
   "metadata": {},
   "outputs": [],
   "source": [
    "rate_pre_om.rates['nt_site_boundary'] = np.zeros(rate_pre_om.rates.shape[0], int)\n",
    "rate_om.rates['nt_site_boundary'] = np.zeros(rate_om.rates.shape[0], int)"
   ]
  },
  {
   "cell_type": "code",
   "execution_count": 27,
   "metadata": {},
   "outputs": [],
   "source": [
    "rate_pre_om.rates.loc[rate_pre_om.rates.mut_type == 'CT', 'nt_site_boundary'] = int(13467)\n",
    "rate_pre_om.rates.loc[(rate_pre_om.rates.mut_type == 'AT') | (rate_pre_om.rates.mut_type == 'GC') | (rate_pre_om.rates.mut_type == 'CG'), 'nt_site_boundary'] = int(21562)"
   ]
  },
  {
   "cell_type": "code",
   "execution_count": 28,
   "metadata": {},
   "outputs": [],
   "source": [
    "rate_om.rates.loc[rate_om.rates.mut_type == 'CT', 'nt_site_boundary'] = int(13467)\n",
    "rate_om.rates.loc[(rate_om.rates.mut_type == 'AT') | (rate_om.rates.mut_type == 'GC') | (rate_om.rates.mut_type == 'CG'), 'nt_site_boundary'] = int(21562)"
   ]
  },
  {
   "cell_type": "markdown",
   "metadata": {},
   "source": [
    "## Save master tables"
   ]
  },
  {
   "cell_type": "code",
   "execution_count": 29,
   "metadata": {},
   "outputs": [],
   "source": [
    "cols = ['mut_type', 'motif', 'unpaired', 'nt_site_boundary', 'nt_site_before_boundary', 'rate', 'predicted_count', 'residual']"
   ]
  },
  {
   "cell_type": "code",
   "execution_count": 30,
   "metadata": {},
   "outputs": [
    {
     "data": {
      "text/html": [
       "<div>\n",
       "<style scoped>\n",
       "    .dataframe tbody tr th:only-of-type {\n",
       "        vertical-align: middle;\n",
       "    }\n",
       "\n",
       "    .dataframe tbody tr th {\n",
       "        vertical-align: top;\n",
       "    }\n",
       "\n",
       "    .dataframe thead th {\n",
       "        text-align: right;\n",
       "    }\n",
       "</style>\n",
       "<table border=\"1\" class=\"dataframe\">\n",
       "  <thead>\n",
       "    <tr style=\"text-align: right;\">\n",
       "      <th></th>\n",
       "      <th>mut_type</th>\n",
       "      <th>motif</th>\n",
       "      <th>unpaired</th>\n",
       "      <th>nt_site_boundary</th>\n",
       "      <th>nt_site_before_boundary</th>\n",
       "      <th>rate</th>\n",
       "      <th>predicted_count</th>\n",
       "      <th>residual</th>\n",
       "    </tr>\n",
       "  </thead>\n",
       "  <tbody>\n",
       "    <tr>\n",
       "      <th>0</th>\n",
       "      <td>AC</td>\n",
       "      <td>AAA</td>\n",
       "      <td>0</td>\n",
       "      <td>0</td>\n",
       "      <td>False</td>\n",
       "      <td>0.110585</td>\n",
       "      <td>10.517707</td>\n",
       "      <td>0.588548</td>\n",
       "    </tr>\n",
       "    <tr>\n",
       "      <th>1</th>\n",
       "      <td>AC</td>\n",
       "      <td>AAA</td>\n",
       "      <td>1</td>\n",
       "      <td>0</td>\n",
       "      <td>False</td>\n",
       "      <td>0.128033</td>\n",
       "      <td>12.177177</td>\n",
       "      <td>0.588548</td>\n",
       "    </tr>\n",
       "    <tr>\n",
       "      <th>2</th>\n",
       "      <td>AC</td>\n",
       "      <td>AAC</td>\n",
       "      <td>0</td>\n",
       "      <td>0</td>\n",
       "      <td>False</td>\n",
       "      <td>0.097450</td>\n",
       "      <td>9.268445</td>\n",
       "      <td>0.588548</td>\n",
       "    </tr>\n",
       "    <tr>\n",
       "      <th>3</th>\n",
       "      <td>AC</td>\n",
       "      <td>AAC</td>\n",
       "      <td>1</td>\n",
       "      <td>0</td>\n",
       "      <td>False</td>\n",
       "      <td>0.112919</td>\n",
       "      <td>10.739754</td>\n",
       "      <td>0.588548</td>\n",
       "    </tr>\n",
       "    <tr>\n",
       "      <th>4</th>\n",
       "      <td>AC</td>\n",
       "      <td>AAG</td>\n",
       "      <td>0</td>\n",
       "      <td>0</td>\n",
       "      <td>False</td>\n",
       "      <td>0.189517</td>\n",
       "      <td>18.024974</td>\n",
       "      <td>0.506125</td>\n",
       "    </tr>\n",
       "  </tbody>\n",
       "</table>\n",
       "</div>"
      ],
      "text/plain": [
       "  mut_type motif  unpaired  nt_site_boundary  nt_site_before_boundary  \\\n",
       "0       AC   AAA         0                 0                    False   \n",
       "1       AC   AAA         1                 0                    False   \n",
       "2       AC   AAC         0                 0                    False   \n",
       "3       AC   AAC         1                 0                    False   \n",
       "4       AC   AAG         0                 0                    False   \n",
       "\n",
       "       rate  predicted_count  residual  \n",
       "0  0.110585        10.517707  0.588548  \n",
       "1  0.128033        12.177177  0.588548  \n",
       "2  0.097450         9.268445  0.588548  \n",
       "3  0.112919        10.739754  0.588548  \n",
       "4  0.189517        18.024974  0.506125  "
      ]
     },
     "execution_count": 30,
     "metadata": {},
     "output_type": "execute_result"
    }
   ],
   "source": [
    "rate_pre_om.rates[cols].head()"
   ]
  },
  {
   "cell_type": "code",
   "execution_count": 31,
   "metadata": {},
   "outputs": [],
   "source": [
    "rate_pre_om.rates.drop(columns=['condition'], inplace=True)\n",
    "rate_pre_om.rates[cols].to_csv(pre_omicron_ms, index=False)"
   ]
  },
  {
   "cell_type": "code",
   "execution_count": 32,
   "metadata": {},
   "outputs": [],
   "source": [
    "rate_om.rates.drop(columns=['condition'], inplace=True)\n",
    "rate_om.rates[cols].to_csv(omicron_ms, index=False)"
   ]
  },
  {
   "cell_type": "code",
   "execution_count": null,
   "metadata": {},
   "outputs": [],
   "source": []
  }
 ],
 "metadata": {
  "kernelspec": {
   "display_name": "SARS2-refined-fitness",
   "language": "python",
   "name": "python3"
  },
  "language_info": {
   "codemirror_mode": {
    "name": "ipython",
    "version": 3
   },
   "file_extension": ".py",
   "mimetype": "text/x-python",
   "name": "python",
   "nbconvert_exporter": "python",
   "pygments_lexer": "ipython3",
   "version": "3.10.15"
  }
 },
 "nbformat": 4,
 "nbformat_minor": 2
}
