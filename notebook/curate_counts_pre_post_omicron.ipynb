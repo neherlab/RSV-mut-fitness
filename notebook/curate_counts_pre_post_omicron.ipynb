{
 "cells": [
  {
   "cell_type": "markdown",
   "metadata": {},
   "source": [
    "# Define pre-post Omicron curated counts datasets"
   ]
  },
  {
   "cell_type": "markdown",
   "metadata": {},
   "source": [
    "## Read in Python modules"
   ]
  },
  {
   "cell_type": "code",
   "execution_count": 1,
   "metadata": {},
   "outputs": [],
   "source": [
    "import os\n",
    "import pandas as pd"
   ]
  },
  {
   "cell_type": "markdown",
   "metadata": {},
   "source": [
    "## Read in and curate counts data"
   ]
  },
  {
   "cell_type": "code",
   "execution_count": 2,
   "metadata": {},
   "outputs": [],
   "source": [
    "# Read in data\n",
    "counts_df = pd.read_csv('../results/mut_counts_by_clade.csv', low_memory=False)"
   ]
  },
  {
   "cell_type": "markdown",
   "metadata": {},
   "source": [
    "Ignore sites that are annotated as being masked in any clade of the UShER tree (`masked_in_usher == True`), are annotated for exclusion (`exclude == True`), or were identified to highly homoplastic by De Maio et al. (https://virological.org/t/issues-with-sars-cov-2-sequencing-data/473)"
   ]
  },
  {
   "cell_type": "code",
   "execution_count": 3,
   "metadata": {},
   "outputs": [
    {
     "name": "stdout",
     "output_type": "stream",
     "text": [
      "7698\n"
     ]
    },
    {
     "data": {
      "text/html": [
       "<div>\n",
       "<style scoped>\n",
       "    .dataframe tbody tr th:only-of-type {\n",
       "        vertical-align: middle;\n",
       "    }\n",
       "\n",
       "    .dataframe tbody tr th {\n",
       "        vertical-align: top;\n",
       "    }\n",
       "\n",
       "    .dataframe thead th {\n",
       "        text-align: right;\n",
       "    }\n",
       "</style>\n",
       "<table border=\"1\" class=\"dataframe\">\n",
       "  <thead>\n",
       "    <tr style=\"text-align: right;\">\n",
       "      <th></th>\n",
       "      <th>clade</th>\n",
       "      <th>nt_site</th>\n",
       "      <th>nt_mutation</th>\n",
       "      <th>exclude</th>\n",
       "      <th>masked_in_usher</th>\n",
       "      <th>expected_count</th>\n",
       "      <th>actual_count</th>\n",
       "      <th>clade_founder_nt</th>\n",
       "      <th>gene</th>\n",
       "      <th>clade_founder_codon</th>\n",
       "      <th>...</th>\n",
       "      <th>wt_nt</th>\n",
       "      <th>mut_nt</th>\n",
       "      <th>mut_type</th>\n",
       "      <th>mut_class</th>\n",
       "      <th>pre_omicron_or_omicron</th>\n",
       "      <th>nt_site_before_boundary</th>\n",
       "      <th>ss_prediction</th>\n",
       "      <th>unpaired</th>\n",
       "      <th>motif</th>\n",
       "      <th>ref_motif</th>\n",
       "    </tr>\n",
       "  </thead>\n",
       "  <tbody>\n",
       "    <tr>\n",
       "      <th>795</th>\n",
       "      <td>20A</td>\n",
       "      <td>266</td>\n",
       "      <td>A266C</td>\n",
       "      <td>False</td>\n",
       "      <td>False</td>\n",
       "      <td>0.96873</td>\n",
       "      <td>0</td>\n",
       "      <td>A</td>\n",
       "      <td>ORF1a;ORF1ab</td>\n",
       "      <td>ATG;ATG</td>\n",
       "      <td>...</td>\n",
       "      <td>A</td>\n",
       "      <td>C</td>\n",
       "      <td>AC</td>\n",
       "      <td>nonsynonymous</td>\n",
       "      <td>pre_omicron</td>\n",
       "      <td>False</td>\n",
       "      <td>paired</td>\n",
       "      <td>0</td>\n",
       "      <td>GAT</td>\n",
       "      <td>GAT</td>\n",
       "    </tr>\n",
       "    <tr>\n",
       "      <th>796</th>\n",
       "      <td>20A</td>\n",
       "      <td>266</td>\n",
       "      <td>A266G</td>\n",
       "      <td>False</td>\n",
       "      <td>False</td>\n",
       "      <td>3.60910</td>\n",
       "      <td>0</td>\n",
       "      <td>A</td>\n",
       "      <td>ORF1a;ORF1ab</td>\n",
       "      <td>ATG;ATG</td>\n",
       "      <td>...</td>\n",
       "      <td>A</td>\n",
       "      <td>G</td>\n",
       "      <td>AG</td>\n",
       "      <td>nonsynonymous</td>\n",
       "      <td>pre_omicron</td>\n",
       "      <td>False</td>\n",
       "      <td>paired</td>\n",
       "      <td>0</td>\n",
       "      <td>GAT</td>\n",
       "      <td>GAT</td>\n",
       "    </tr>\n",
       "    <tr>\n",
       "      <th>797</th>\n",
       "      <td>20A</td>\n",
       "      <td>266</td>\n",
       "      <td>A266T</td>\n",
       "      <td>False</td>\n",
       "      <td>False</td>\n",
       "      <td>1.27820</td>\n",
       "      <td>0</td>\n",
       "      <td>A</td>\n",
       "      <td>ORF1a;ORF1ab</td>\n",
       "      <td>ATG;ATG</td>\n",
       "      <td>...</td>\n",
       "      <td>A</td>\n",
       "      <td>T</td>\n",
       "      <td>AT</td>\n",
       "      <td>nonsynonymous</td>\n",
       "      <td>pre_omicron</td>\n",
       "      <td>True</td>\n",
       "      <td>paired</td>\n",
       "      <td>0</td>\n",
       "      <td>GAT</td>\n",
       "      <td>GAT</td>\n",
       "    </tr>\n",
       "    <tr>\n",
       "      <th>798</th>\n",
       "      <td>20A</td>\n",
       "      <td>267</td>\n",
       "      <td>T267A</td>\n",
       "      <td>False</td>\n",
       "      <td>False</td>\n",
       "      <td>0.90342</td>\n",
       "      <td>0</td>\n",
       "      <td>T</td>\n",
       "      <td>ORF1a;ORF1ab</td>\n",
       "      <td>ATG;ATG</td>\n",
       "      <td>...</td>\n",
       "      <td>T</td>\n",
       "      <td>A</td>\n",
       "      <td>TA</td>\n",
       "      <td>nonsynonymous</td>\n",
       "      <td>pre_omicron</td>\n",
       "      <td>False</td>\n",
       "      <td>paired</td>\n",
       "      <td>0</td>\n",
       "      <td>ATG</td>\n",
       "      <td>ATG</td>\n",
       "    </tr>\n",
       "    <tr>\n",
       "      <th>799</th>\n",
       "      <td>20A</td>\n",
       "      <td>267</td>\n",
       "      <td>T267C</td>\n",
       "      <td>False</td>\n",
       "      <td>False</td>\n",
       "      <td>3.58890</td>\n",
       "      <td>0</td>\n",
       "      <td>T</td>\n",
       "      <td>ORF1a;ORF1ab</td>\n",
       "      <td>ATG;ATG</td>\n",
       "      <td>...</td>\n",
       "      <td>T</td>\n",
       "      <td>C</td>\n",
       "      <td>TC</td>\n",
       "      <td>nonsynonymous</td>\n",
       "      <td>pre_omicron</td>\n",
       "      <td>False</td>\n",
       "      <td>paired</td>\n",
       "      <td>0</td>\n",
       "      <td>ATG</td>\n",
       "      <td>ATG</td>\n",
       "    </tr>\n",
       "  </tbody>\n",
       "</table>\n",
       "<p>5 rows × 32 columns</p>\n",
       "</div>"
      ],
      "text/plain": [
       "    clade  nt_site nt_mutation  exclude  masked_in_usher  expected_count  \\\n",
       "795   20A      266       A266C    False            False         0.96873   \n",
       "796   20A      266       A266G    False            False         3.60910   \n",
       "797   20A      266       A266T    False            False         1.27820   \n",
       "798   20A      267       T267A    False            False         0.90342   \n",
       "799   20A      267       T267C    False            False         3.58890   \n",
       "\n",
       "     actual_count clade_founder_nt          gene clade_founder_codon  ...  \\\n",
       "795             0                A  ORF1a;ORF1ab             ATG;ATG  ...   \n",
       "796             0                A  ORF1a;ORF1ab             ATG;ATG  ...   \n",
       "797             0                A  ORF1a;ORF1ab             ATG;ATG  ...   \n",
       "798             0                T  ORF1a;ORF1ab             ATG;ATG  ...   \n",
       "799             0                T  ORF1a;ORF1ab             ATG;ATG  ...   \n",
       "\n",
       "    wt_nt mut_nt mut_type      mut_class  pre_omicron_or_omicron  \\\n",
       "795     A      C       AC  nonsynonymous             pre_omicron   \n",
       "796     A      G       AG  nonsynonymous             pre_omicron   \n",
       "797     A      T       AT  nonsynonymous             pre_omicron   \n",
       "798     T      A       TA  nonsynonymous             pre_omicron   \n",
       "799     T      C       TC  nonsynonymous             pre_omicron   \n",
       "\n",
       "     nt_site_before_boundary ss_prediction unpaired  motif  ref_motif  \n",
       "795                    False        paired        0    GAT        GAT  \n",
       "796                    False        paired        0    GAT        GAT  \n",
       "797                     True        paired        0    GAT        GAT  \n",
       "798                    False        paired        0    ATG        ATG  \n",
       "799                    False        paired        0    ATG        ATG  \n",
       "\n",
       "[5 rows x 32 columns]"
      ]
     },
     "execution_count": 3,
     "metadata": {},
     "output_type": "execute_result"
    }
   ],
   "source": [
    "# Ignore sites that are masked or excluded in any clade of the UShER tree\n",
    "sites_to_ignore = list(counts_df[\n",
    "    (counts_df['masked_in_usher'] == True) |\n",
    "    (counts_df['exclude'] == True)\n",
    "]['nt_site'].unique())\n",
    "\n",
    "# Homoplastic sites from De Maio et al., which we will also ignore\n",
    "sites_to_ignore += [\n",
    "    187, 1059, 2094, 3037, 3130, 6990, 8022, 10323, 10741, 11074, 13408,\n",
    "    14786, 19684, 20148, 21137, 24034, 24378, 25563, 26144, 26461, 26681, 28077,\n",
    "    28826, 28854, 29700, 4050, 13402, 11083, 15324, 21575\n",
    "]\n",
    "\n",
    "# Retain only non-excluded sites\n",
    "curated_counts_df = counts_df[\n",
    "    ~(counts_df['nt_site'].isin(sites_to_ignore))\n",
    "]\n",
    "\n",
    "# Save curated counts to an output file\n",
    "print(sum(curated_counts_df['motif'] != curated_counts_df['ref_motif']))\n",
    "\n",
    "curated_counts_df.head()"
   ]
  },
  {
   "cell_type": "markdown",
   "metadata": {},
   "source": [
    "Create two dataframes of curated counts:\n",
    "\n",
    "* Cluster of pre-Omicron clades\n",
    "* Cluster of Omicron clades\n",
    "\n",
    "Sites are retained if the corresponding codon and motif are conserved. Then aggregates mutation counts accros clades belonging to the same cluster"
   ]
  },
  {
   "cell_type": "code",
   "execution_count": 4,
   "metadata": {},
   "outputs": [],
   "source": [
    "# Split Omicron/non-Omicron clades\n",
    "counts_pre_omicron = curated_counts_df.query('pre_omicron_or_omicron == \"pre_omicron\"')\n",
    "counts_omicron = curated_counts_df.query('pre_omicron_or_omicron == \"omicron\"')\n",
    "\n",
    "# Retain only sites with conserved motifs\n",
    "curated_pre_omicron = counts_pre_omicron.query('motif == ref_motif')\n",
    "curated_omicron = counts_omicron.query('motif == ref_motif')\n",
    "assert sum(curated_pre_omicron['motif'] != curated_pre_omicron['ref_motif']) == 0\n",
    "assert sum(curated_omicron['motif'] != curated_omicron['ref_motif']) == 0\n",
    "\n",
    "# Aggregate counts across all clades\n",
    "ignore_cols = [\n",
    "    'expected_count', 'actual_count', 'count_terminal', 'count_non_terminal', 'mean_log_size',\n",
    "    'clade', 'pre_omicron_or_omicron'\n",
    "]\n",
    "groupby_cols = [\n",
    "    col for col in curated_counts_df.columns.values\n",
    "    if col not in ignore_cols\n",
    "]\n",
    "curated_pre_omicron = curated_pre_omicron.groupby(groupby_cols, as_index=False).agg('sum', numeric_only=True)\n",
    "curated_omicron = curated_omicron.groupby(groupby_cols, as_index=False).agg('sum', numeric_only=True)\n",
    "\n"
   ]
  },
  {
   "cell_type": "code",
   "execution_count": 5,
   "metadata": {},
   "outputs": [],
   "source": [
    "# Drop multiple nt_mutation which correspond to different clade founder codons\n",
    "curated_pre_omicron.drop_duplicates(subset='nt_mutation', inplace=True)\n",
    "curated_omicron.drop_duplicates(subset='nt_mutation', inplace=True)"
   ]
  },
  {
   "cell_type": "code",
   "execution_count": 6,
   "metadata": {},
   "outputs": [],
   "source": [
    "# Check \n",
    "assert sum(curated_pre_omicron['nt_mutation'].duplicated(keep=False)) == 0\n",
    "assert sum(curated_omicron['nt_mutation'].duplicated(keep=False)) == 0"
   ]
  },
  {
   "cell_type": "markdown",
   "metadata": {},
   "source": [
    "Summary statistics of mutations in dataset"
   ]
  },
  {
   "cell_type": "code",
   "execution_count": 7,
   "metadata": {},
   "outputs": [
    {
     "name": "stdout",
     "output_type": "stream",
     "text": [
      "Number of unique muts:\n",
      "In the full dataset: 90621\n",
      "In the curated pre-omicron dataset: 86721\n",
      "In the curated omicron dataset: 86556\n"
     ]
    }
   ],
   "source": [
    "\n",
    "print('Number of unique muts:')\n",
    "print('In the full dataset:', len(counts_df['nt_mutation'].unique()))\n",
    "print('In the curated pre-omicron dataset:', len(curated_pre_omicron['nt_mutation'].unique()))\n",
    "print('In the curated omicron dataset:', len(curated_omicron['nt_mutation'].unique()))"
   ]
  },
  {
   "cell_type": "code",
   "execution_count": 8,
   "metadata": {},
   "outputs": [
    {
     "name": "stdout",
     "output_type": "stream",
     "text": [
      "Number of curated mutations pre-omicron per category:\n"
     ]
    },
    {
     "data": {
      "text/plain": [
       "mut_class\n",
       "nonsynonymous    63376\n",
       "synonymous       18743\n",
       "nonsense          4080\n",
       "noncoding          522\n",
       "Name: count, dtype: int64"
      ]
     },
     "execution_count": 8,
     "metadata": {},
     "output_type": "execute_result"
    }
   ],
   "source": [
    "print('Number of curated mutations pre-omicron per category:')\n",
    "curated_pre_omicron['mut_class'].value_counts()"
   ]
  },
  {
   "cell_type": "code",
   "execution_count": 9,
   "metadata": {},
   "outputs": [
    {
     "name": "stdout",
     "output_type": "stream",
     "text": [
      "Number of curated mutations omicron per category:\n"
     ]
    },
    {
     "data": {
      "text/plain": [
       "mut_class\n",
       "nonsynonymous    63261\n",
       "synonymous       18690\n",
       "nonsense          4086\n",
       "noncoding          519\n",
       "Name: count, dtype: int64"
      ]
     },
     "execution_count": 9,
     "metadata": {},
     "output_type": "execute_result"
    }
   ],
   "source": [
    "print('Number of curated mutations omicron per category:')\n",
    "curated_omicron['mut_class'].value_counts()"
   ]
  },
  {
   "cell_type": "code",
   "execution_count": 10,
   "metadata": {},
   "outputs": [],
   "source": [
    "curated_pre_omicron.drop(columns=['exclude', 'masked_in_usher'], inplace=True)\n",
    "curated_omicron.drop(columns=['exclude', 'masked_in_usher'], inplace=True)"
   ]
  },
  {
   "cell_type": "code",
   "execution_count": 11,
   "metadata": {},
   "outputs": [],
   "source": [
    "outfile_pre_om = '../results/curated/curated_mut_counts_pre_omicron.csv'\n",
    "if not os.path.isfile(outfile_pre_om):\n",
    "    curated_pre_omicron.to_csv(outfile_pre_om, index=False)\n",
    "\n",
    "outfile_om = '../results/curated/curated_mut_counts_omicron.csv'\n",
    "if not os.path.isfile(outfile_om):\n",
    "    curated_omicron.to_csv(outfile_om, index=False)\n"
   ]
  },
  {
   "cell_type": "code",
   "execution_count": null,
   "metadata": {},
   "outputs": [],
   "source": []
  }
 ],
 "metadata": {
  "kernelspec": {
   "display_name": "SARS2-refined-fitness",
   "language": "python",
   "name": "python3"
  },
  "language_info": {
   "codemirror_mode": {
    "name": "ipython",
    "version": 3
   },
   "file_extension": ".py",
   "mimetype": "text/x-python",
   "name": "python",
   "nbconvert_exporter": "python",
   "pygments_lexer": "ipython3",
   "version": "3.13.0"
  }
 },
 "nbformat": 4,
 "nbformat_minor": 2
}
