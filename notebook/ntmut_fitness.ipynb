{
 "cells": [
  {
   "cell_type": "markdown",
   "metadata": {},
   "source": [
    "# Notebook for estimating probabilistic fitness"
   ]
  },
  {
   "cell_type": "markdown",
   "metadata": {},
   "source": [
    "## Import packages"
   ]
  },
  {
   "cell_type": "code",
   "execution_count": 19,
   "metadata": {},
   "outputs": [],
   "source": [
    "import pandas as pd\n",
    "import sys\n",
    "import os\n",
    "import json"
   ]
  },
  {
   "cell_type": "code",
   "execution_count": 2,
   "metadata": {},
   "outputs": [],
   "source": [
    "# Adding module folder to system paths\n",
    "module_path = os.path.abspath(os.path.join('..'))\n",
    "if module_path not in sys.path:\n",
    "    sys.path.append(module_path)"
   ]
  },
  {
   "cell_type": "code",
   "execution_count": 3,
   "metadata": {},
   "outputs": [],
   "source": [
    "from modules import probfit"
   ]
  },
  {
   "cell_type": "markdown",
   "metadata": {},
   "source": [
    "## Import cladewise mutations table"
   ]
  },
  {
   "cell_type": "code",
   "execution_count": 4,
   "metadata": {},
   "outputs": [],
   "source": [
    "muts_by_clade = pd.read_csv('../results/mut_counts_by_clade.csv', low_memory=False)"
   ]
  },
  {
   "cell_type": "code",
   "execution_count": 5,
   "metadata": {},
   "outputs": [
    {
     "data": {
      "text/html": [
       "<div>\n",
       "<style scoped>\n",
       "    .dataframe tbody tr th:only-of-type {\n",
       "        vertical-align: middle;\n",
       "    }\n",
       "\n",
       "    .dataframe tbody tr th {\n",
       "        vertical-align: top;\n",
       "    }\n",
       "\n",
       "    .dataframe thead th {\n",
       "        text-align: right;\n",
       "    }\n",
       "</style>\n",
       "<table border=\"1\" class=\"dataframe\">\n",
       "  <thead>\n",
       "    <tr style=\"text-align: right;\">\n",
       "      <th></th>\n",
       "      <th>clade</th>\n",
       "      <th>nt_site</th>\n",
       "      <th>nt_mutation</th>\n",
       "      <th>exclude</th>\n",
       "      <th>masked_in_usher</th>\n",
       "      <th>expected_count</th>\n",
       "      <th>actual_count</th>\n",
       "      <th>clade_founder_nt</th>\n",
       "      <th>gene</th>\n",
       "      <th>clade_founder_codon</th>\n",
       "      <th>...</th>\n",
       "      <th>mut_type</th>\n",
       "      <th>mut_class</th>\n",
       "      <th>pre_omicron_or_omicron</th>\n",
       "      <th>nt_site_before_boundary</th>\n",
       "      <th>ss_prediction</th>\n",
       "      <th>unpaired</th>\n",
       "      <th>motif</th>\n",
       "      <th>ref_motif</th>\n",
       "      <th>predicted_count</th>\n",
       "      <th>tau_squared</th>\n",
       "    </tr>\n",
       "  </thead>\n",
       "  <tbody>\n",
       "    <tr>\n",
       "      <th>0</th>\n",
       "      <td>20A</td>\n",
       "      <td>1</td>\n",
       "      <td>A1C</td>\n",
       "      <td>True</td>\n",
       "      <td>True</td>\n",
       "      <td>0.96873</td>\n",
       "      <td>0</td>\n",
       "      <td>A</td>\n",
       "      <td>noncoding</td>\n",
       "      <td>noncoding</td>\n",
       "      <td>...</td>\n",
       "      <td>AC</td>\n",
       "      <td>noncoding</td>\n",
       "      <td>pre_omicron</td>\n",
       "      <td>False</td>\n",
       "      <td>unpaired</td>\n",
       "      <td>1</td>\n",
       "      <td>AAT</td>\n",
       "      <td>NaN</td>\n",
       "      <td>1.738421</td>\n",
       "      <td>0.433274</td>\n",
       "    </tr>\n",
       "    <tr>\n",
       "      <th>1</th>\n",
       "      <td>20A</td>\n",
       "      <td>1</td>\n",
       "      <td>A1G</td>\n",
       "      <td>True</td>\n",
       "      <td>True</td>\n",
       "      <td>3.60910</td>\n",
       "      <td>0</td>\n",
       "      <td>A</td>\n",
       "      <td>noncoding</td>\n",
       "      <td>noncoding</td>\n",
       "      <td>...</td>\n",
       "      <td>AG</td>\n",
       "      <td>noncoding</td>\n",
       "      <td>pre_omicron</td>\n",
       "      <td>False</td>\n",
       "      <td>unpaired</td>\n",
       "      <td>1</td>\n",
       "      <td>AAT</td>\n",
       "      <td>NaN</td>\n",
       "      <td>6.308562</td>\n",
       "      <td>0.736113</td>\n",
       "    </tr>\n",
       "    <tr>\n",
       "      <th>2</th>\n",
       "      <td>20A</td>\n",
       "      <td>1</td>\n",
       "      <td>A1T</td>\n",
       "      <td>True</td>\n",
       "      <td>True</td>\n",
       "      <td>1.27820</td>\n",
       "      <td>0</td>\n",
       "      <td>A</td>\n",
       "      <td>noncoding</td>\n",
       "      <td>noncoding</td>\n",
       "      <td>...</td>\n",
       "      <td>AT</td>\n",
       "      <td>noncoding</td>\n",
       "      <td>pre_omicron</td>\n",
       "      <td>True</td>\n",
       "      <td>unpaired</td>\n",
       "      <td>1</td>\n",
       "      <td>AAT</td>\n",
       "      <td>NaN</td>\n",
       "      <td>0.629081</td>\n",
       "      <td>0.635531</td>\n",
       "    </tr>\n",
       "    <tr>\n",
       "      <th>3</th>\n",
       "      <td>20A</td>\n",
       "      <td>2</td>\n",
       "      <td>T2A</td>\n",
       "      <td>True</td>\n",
       "      <td>True</td>\n",
       "      <td>0.90342</td>\n",
       "      <td>0</td>\n",
       "      <td>T</td>\n",
       "      <td>noncoding</td>\n",
       "      <td>noncoding</td>\n",
       "      <td>...</td>\n",
       "      <td>TA</td>\n",
       "      <td>noncoding</td>\n",
       "      <td>pre_omicron</td>\n",
       "      <td>False</td>\n",
       "      <td>unpaired</td>\n",
       "      <td>1</td>\n",
       "      <td>ATT</td>\n",
       "      <td>ATT</td>\n",
       "      <td>0.205190</td>\n",
       "      <td>0.520788</td>\n",
       "    </tr>\n",
       "    <tr>\n",
       "      <th>4</th>\n",
       "      <td>20A</td>\n",
       "      <td>2</td>\n",
       "      <td>T2C</td>\n",
       "      <td>True</td>\n",
       "      <td>True</td>\n",
       "      <td>3.58890</td>\n",
       "      <td>0</td>\n",
       "      <td>T</td>\n",
       "      <td>noncoding</td>\n",
       "      <td>noncoding</td>\n",
       "      <td>...</td>\n",
       "      <td>TC</td>\n",
       "      <td>noncoding</td>\n",
       "      <td>pre_omicron</td>\n",
       "      <td>False</td>\n",
       "      <td>unpaired</td>\n",
       "      <td>1</td>\n",
       "      <td>ATT</td>\n",
       "      <td>ATT</td>\n",
       "      <td>6.277356</td>\n",
       "      <td>0.719985</td>\n",
       "    </tr>\n",
       "    <tr>\n",
       "      <th>...</th>\n",
       "      <td>...</td>\n",
       "      <td>...</td>\n",
       "      <td>...</td>\n",
       "      <td>...</td>\n",
       "      <td>...</td>\n",
       "      <td>...</td>\n",
       "      <td>...</td>\n",
       "      <td>...</td>\n",
       "      <td>...</td>\n",
       "      <td>...</td>\n",
       "      <td>...</td>\n",
       "      <td>...</td>\n",
       "      <td>...</td>\n",
       "      <td>...</td>\n",
       "      <td>...</td>\n",
       "      <td>...</td>\n",
       "      <td>...</td>\n",
       "      <td>...</td>\n",
       "      <td>...</td>\n",
       "      <td>...</td>\n",
       "      <td>...</td>\n",
       "    </tr>\n",
       "    <tr>\n",
       "      <th>2422138</th>\n",
       "      <td>23I</td>\n",
       "      <td>29902</td>\n",
       "      <td>A29902G</td>\n",
       "      <td>True</td>\n",
       "      <td>True</td>\n",
       "      <td>3.66450</td>\n",
       "      <td>0</td>\n",
       "      <td>A</td>\n",
       "      <td>noncoding</td>\n",
       "      <td>noncoding</td>\n",
       "      <td>...</td>\n",
       "      <td>AG</td>\n",
       "      <td>noncoding</td>\n",
       "      <td>omicron</td>\n",
       "      <td>False</td>\n",
       "      <td>nd</td>\n",
       "      <td>0</td>\n",
       "      <td>AAA</td>\n",
       "      <td>AAA</td>\n",
       "      <td>2.526564</td>\n",
       "      <td>0.983941</td>\n",
       "    </tr>\n",
       "    <tr>\n",
       "      <th>2422139</th>\n",
       "      <td>23I</td>\n",
       "      <td>29902</td>\n",
       "      <td>A29902T</td>\n",
       "      <td>True</td>\n",
       "      <td>True</td>\n",
       "      <td>1.28520</td>\n",
       "      <td>0</td>\n",
       "      <td>A</td>\n",
       "      <td>noncoding</td>\n",
       "      <td>noncoding</td>\n",
       "      <td>...</td>\n",
       "      <td>AT</td>\n",
       "      <td>noncoding</td>\n",
       "      <td>omicron</td>\n",
       "      <td>False</td>\n",
       "      <td>nd</td>\n",
       "      <td>0</td>\n",
       "      <td>AAA</td>\n",
       "      <td>AAA</td>\n",
       "      <td>1.421710</td>\n",
       "      <td>0.640234</td>\n",
       "    </tr>\n",
       "    <tr>\n",
       "      <th>2422140</th>\n",
       "      <td>23I</td>\n",
       "      <td>29903</td>\n",
       "      <td>A29903C</td>\n",
       "      <td>True</td>\n",
       "      <td>True</td>\n",
       "      <td>0.41880</td>\n",
       "      <td>0</td>\n",
       "      <td>A</td>\n",
       "      <td>noncoding</td>\n",
       "      <td>noncoding</td>\n",
       "      <td>...</td>\n",
       "      <td>AC</td>\n",
       "      <td>noncoding</td>\n",
       "      <td>omicron</td>\n",
       "      <td>False</td>\n",
       "      <td>nd</td>\n",
       "      <td>0</td>\n",
       "      <td>AAA</td>\n",
       "      <td>NaN</td>\n",
       "      <td>0.559207</td>\n",
       "      <td>0.341904</td>\n",
       "    </tr>\n",
       "    <tr>\n",
       "      <th>2422141</th>\n",
       "      <td>23I</td>\n",
       "      <td>29903</td>\n",
       "      <td>A29903G</td>\n",
       "      <td>True</td>\n",
       "      <td>True</td>\n",
       "      <td>3.66450</td>\n",
       "      <td>0</td>\n",
       "      <td>A</td>\n",
       "      <td>noncoding</td>\n",
       "      <td>noncoding</td>\n",
       "      <td>...</td>\n",
       "      <td>AG</td>\n",
       "      <td>noncoding</td>\n",
       "      <td>omicron</td>\n",
       "      <td>False</td>\n",
       "      <td>nd</td>\n",
       "      <td>0</td>\n",
       "      <td>AAA</td>\n",
       "      <td>NaN</td>\n",
       "      <td>2.526564</td>\n",
       "      <td>0.983941</td>\n",
       "    </tr>\n",
       "    <tr>\n",
       "      <th>2422142</th>\n",
       "      <td>23I</td>\n",
       "      <td>29903</td>\n",
       "      <td>A29903T</td>\n",
       "      <td>True</td>\n",
       "      <td>True</td>\n",
       "      <td>1.28520</td>\n",
       "      <td>0</td>\n",
       "      <td>A</td>\n",
       "      <td>noncoding</td>\n",
       "      <td>noncoding</td>\n",
       "      <td>...</td>\n",
       "      <td>AT</td>\n",
       "      <td>noncoding</td>\n",
       "      <td>omicron</td>\n",
       "      <td>False</td>\n",
       "      <td>nd</td>\n",
       "      <td>0</td>\n",
       "      <td>AAA</td>\n",
       "      <td>NaN</td>\n",
       "      <td>1.421710</td>\n",
       "      <td>0.640234</td>\n",
       "    </tr>\n",
       "  </tbody>\n",
       "</table>\n",
       "<p>2422143 rows × 34 columns</p>\n",
       "</div>"
      ],
      "text/plain": [
       "        clade  nt_site nt_mutation  exclude  masked_in_usher  expected_count  \\\n",
       "0         20A        1         A1C     True             True         0.96873   \n",
       "1         20A        1         A1G     True             True         3.60910   \n",
       "2         20A        1         A1T     True             True         1.27820   \n",
       "3         20A        2         T2A     True             True         0.90342   \n",
       "4         20A        2         T2C     True             True         3.58890   \n",
       "...       ...      ...         ...      ...              ...             ...   \n",
       "2422138   23I    29902     A29902G     True             True         3.66450   \n",
       "2422139   23I    29902     A29902T     True             True         1.28520   \n",
       "2422140   23I    29903     A29903C     True             True         0.41880   \n",
       "2422141   23I    29903     A29903G     True             True         3.66450   \n",
       "2422142   23I    29903     A29903T     True             True         1.28520   \n",
       "\n",
       "         actual_count clade_founder_nt       gene clade_founder_codon  ...  \\\n",
       "0                   0                A  noncoding           noncoding  ...   \n",
       "1                   0                A  noncoding           noncoding  ...   \n",
       "2                   0                A  noncoding           noncoding  ...   \n",
       "3                   0                T  noncoding           noncoding  ...   \n",
       "4                   0                T  noncoding           noncoding  ...   \n",
       "...               ...              ...        ...                 ...  ...   \n",
       "2422138             0                A  noncoding           noncoding  ...   \n",
       "2422139             0                A  noncoding           noncoding  ...   \n",
       "2422140             0                A  noncoding           noncoding  ...   \n",
       "2422141             0                A  noncoding           noncoding  ...   \n",
       "2422142             0                A  noncoding           noncoding  ...   \n",
       "\n",
       "        mut_type  mut_class pre_omicron_or_omicron nt_site_before_boundary  \\\n",
       "0             AC  noncoding            pre_omicron                   False   \n",
       "1             AG  noncoding            pre_omicron                   False   \n",
       "2             AT  noncoding            pre_omicron                    True   \n",
       "3             TA  noncoding            pre_omicron                   False   \n",
       "4             TC  noncoding            pre_omicron                   False   \n",
       "...          ...        ...                    ...                     ...   \n",
       "2422138       AG  noncoding                omicron                   False   \n",
       "2422139       AT  noncoding                omicron                   False   \n",
       "2422140       AC  noncoding                omicron                   False   \n",
       "2422141       AG  noncoding                omicron                   False   \n",
       "2422142       AT  noncoding                omicron                   False   \n",
       "\n",
       "         ss_prediction  unpaired motif ref_motif  predicted_count  tau_squared  \n",
       "0             unpaired         1   AAT       NaN         1.738421     0.433274  \n",
       "1             unpaired         1   AAT       NaN         6.308562     0.736113  \n",
       "2             unpaired         1   AAT       NaN         0.629081     0.635531  \n",
       "3             unpaired         1   ATT       ATT         0.205190     0.520788  \n",
       "4             unpaired         1   ATT       ATT         6.277356     0.719985  \n",
       "...                ...       ...   ...       ...              ...          ...  \n",
       "2422138             nd         0   AAA       AAA         2.526564     0.983941  \n",
       "2422139             nd         0   AAA       AAA         1.421710     0.640234  \n",
       "2422140             nd         0   AAA       NaN         0.559207     0.341904  \n",
       "2422141             nd         0   AAA       NaN         2.526564     0.983941  \n",
       "2422142             nd         0   AAA       NaN         1.421710     0.640234  \n",
       "\n",
       "[2422143 rows x 34 columns]"
      ]
     },
     "execution_count": 5,
     "metadata": {},
     "output_type": "execute_result"
    }
   ],
   "source": [
    "muts_by_clade"
   ]
  },
  {
   "cell_type": "markdown",
   "metadata": {},
   "source": [
    "Ignore sites that are annotated as being masked in any clade of the UShER tree (`masked_in_usher == True`), or are annotated for exclusion (`exclude == True`)"
   ]
  },
  {
   "cell_type": "code",
   "execution_count": 6,
   "metadata": {},
   "outputs": [],
   "source": [
    "muts_by_clade = muts_by_clade.query('not exclude').query('not masked_in_usher')"
   ]
  },
  {
   "cell_type": "markdown",
   "metadata": {},
   "source": [
    "## Clades grouping"
   ]
  },
  {
   "cell_type": "markdown",
   "metadata": {},
   "source": [
    "Here it is possible to define a customized grouping of clades. The statistics associated to the grouped clades will be aggregated, namely:\n",
    "* **Predicted counts**\n",
    "* **Actual counts**\n",
    "* **Residual variance** of the synonymous counts model.\n",
    "  \n",
    "A separate table containing fitness effects and uncertainties of nucleotide mutations will be defined for each group.\n",
    "\n",
    "The clade clustering is encoded into the `clades_cluster` dictionary, which is defined from:\n",
    "* `clusters`: an array whose elements are arrays of clades to be grouped together.\n",
    "* `clust_names`: an array containing reference names for each group.\n",
    "\n",
    "By default, we aggregate together:\n",
    "* *Ancestral*: 20A, 20B, 20C, 20E, 20G, 21C.\n",
    "* *BA.1*: 21L, 22C.\n",
    "* *22A-B*: 22A, 22B.\n",
    "* *BA.2.75*: 22D, 23C.\n",
    "* *XBB*: 22F, 23A, 23B, 23D, 23E, 23F.\n",
    "* *Late*: 23I, 24A, 24B, 24C, 24E (so far only 23I is included in the tree)."
   ]
  },
  {
   "cell_type": "code",
   "execution_count": 7,
   "metadata": {},
   "outputs": [],
   "source": [
    "clades = muts_by_clade.clade.unique()"
   ]
  },
  {
   "cell_type": "code",
   "execution_count": 8,
   "metadata": {},
   "outputs": [
    {
     "data": {
      "text/plain": [
       "array(['20A', '20B', '20C', '20E', '20G', '20H', '20I', '20J', '21C',\n",
       "       '21I', '21J', '21K', '21L', '22A', '22B', '22C', '22D', '22E',\n",
       "       '22F', '23A', '23B', '23C', '23D', '23E', '23F', '23H', '23I'],\n",
       "      dtype=object)"
      ]
     },
     "execution_count": 8,
     "metadata": {},
     "output_type": "execute_result"
    }
   ],
   "source": [
    "clades"
   ]
  },
  {
   "cell_type": "code",
   "execution_count": 12,
   "metadata": {},
   "outputs": [],
   "source": [
    "clusters = [['20A', '20B', '20C', '20E', '20G', '21C'],\n",
    "            ['20H'],\n",
    "            ['20I'],\n",
    "            ['20J'],\n",
    "            ['21I'],\n",
    "            ['21J'],\n",
    "            ['21K'],\n",
    "            ['21L', '22C'],\n",
    "            ['22A', '22B'],\n",
    "            ['22D', '23C'],\n",
    "            ['22F', '23A', '23B', '23D', '23E', '23F', '23H'],\n",
    "            ['23I']]"
   ]
  },
  {
   "cell_type": "code",
   "execution_count": 13,
   "metadata": {},
   "outputs": [],
   "source": [
    "clust_names = ['ancestral', '20H', '20I', '20J', '21I', '21J', '21K', 'BA.2', '22A-B', 'BA.2.75', 'XBB', 'late']"
   ]
  },
  {
   "cell_type": "code",
   "execution_count": 21,
   "metadata": {},
   "outputs": [
    {
     "name": "stdout",
     "output_type": "stream",
     "text": [
      "12\n"
     ]
    }
   ],
   "source": [
    "assert len(clusters) == len(clust_names)"
   ]
  },
  {
   "cell_type": "code",
   "execution_count": 17,
   "metadata": {},
   "outputs": [],
   "source": [
    "clade_cluster = dict(zip(clust_names, clusters))"
   ]
  },
  {
   "cell_type": "code",
   "execution_count": 18,
   "metadata": {},
   "outputs": [
    {
     "data": {
      "text/plain": [
       "{'ancestral': ['20A', '20B', '20C', '20E', '20G', '21C'],\n",
       " '20H': ['20H'],\n",
       " '20I': ['20I'],\n",
       " '20J': ['20J'],\n",
       " '21I': ['21I'],\n",
       " '21J': ['21J'],\n",
       " '21K': ['21K'],\n",
       " 'BA.2': ['21L', '22C'],\n",
       " '22A-B': ['22A', '22B'],\n",
       " 'BA.2.75': ['22D', '23C'],\n",
       " 'XBB': ['22F', '23A', '23B', '23D', '23E', '23F', '23H'],\n",
       " 'late': ['23I']}"
      ]
     },
     "execution_count": 18,
     "metadata": {},
     "output_type": "execute_result"
    }
   ],
   "source": [
    "clade_cluster"
   ]
  },
  {
   "cell_type": "code",
   "execution_count": 20,
   "metadata": {},
   "outputs": [],
   "source": [
    "# Convert `clade_cluster` dictionary to JSON and write to file\n",
    "with open(\"../results/clade_clustering.json\", \"w\") as outfile: \n",
    "    json.dump(clade_cluster, outfile)"
   ]
  },
  {
   "cell_type": "markdown",
   "metadata": {},
   "source": [
    "## Compute probabilistic fitness estimates"
   ]
  },
  {
   "cell_type": "code",
   "execution_count": 19,
   "metadata": {},
   "outputs": [],
   "source": [
    "group_cols = ['nt_mutation', 'gene', 'codon_site', 'aa_mutation', 'synonymous', 'noncoding']"
   ]
  },
  {
   "cell_type": "markdown",
   "metadata": {},
   "source": [
    "For demonstrative purposes we only include here a subset of clusters for fitness determination"
   ]
  },
  {
   "cell_type": "code",
   "execution_count": 23,
   "metadata": {},
   "outputs": [
    {
     "name": "stdout",
     "output_type": "stream",
     "text": [
      "{'ancestral': ['20A', '20B', '20C', '20E', '20G', '21C'], '21J': ['21J'], '21K': ['21K']}\n"
     ]
    }
   ],
   "source": [
    "keys_to_include = {'ancestral', '21J', '21K'}\n",
    "clade_cluster_subset = dict(filter(lambda item: item[0] in keys_to_include, clade_cluster.items()))\n",
    "print(clade_cluster_subset)\n"
   ]
  },
  {
   "cell_type": "code",
   "execution_count": 24,
   "metadata": {},
   "outputs": [],
   "source": [
    "# Cycling over dictionary entries\n",
    "for key, val in clade_cluster_subset.items():\n",
    "    muts_by_clade_cluster = (muts_by_clade\n",
    "        .query(\"clade.isin(@val)\")              # Selecting clades\n",
    "        .groupby(group_cols, as_index=False)    # Columns not be aggregated\n",
    "        .aggregate(                             # Aggregating counts\n",
    "            expected_count = pd.NamedAgg('expected_count', 'sum'),\n",
    "            predicted_count = pd.NamedAgg('predicted_count', 'sum'),\n",
    "            actual_count = pd.NamedAgg('actual_count', 'sum'),\n",
    "            tau_squared = pd.NamedAgg('tau_squared', 'sum')\n",
    "        )\n",
    "    )\n",
    "    muts_by_clade_cluster.insert(0, 'nt_site', muts_by_clade_cluster['nt_mutation'].apply(lambda x: int(x[1:-1])))\n",
    "    muts_by_clade_cluster.insert(0, 'cluster', key)\n",
    "    muts_by_clade_cluster = muts_by_clade_cluster.sort_values('nt_site').reset_index(drop=True) # Ordering by nucleotide site\n",
    "    # Add probabilistic fitness estimates to dataframe\n",
    "    probfit.add_probabilistic_estimates(muts_by_clade_cluster, N_f=300)\n",
    "    # Save dataframe\n",
    "    muts_by_clade_cluster.to_csv(f'../results/ntmut_fitness/{key}_ntmut_fitness.csv', index=False)"
   ]
  },
  {
   "cell_type": "code",
   "execution_count": null,
   "metadata": {},
   "outputs": [],
   "source": []
  }
 ],
 "metadata": {
  "kernelspec": {
   "display_name": "SARS2-refined-fitness",
   "language": "python",
   "name": "python3"
  },
  "language_info": {
   "codemirror_mode": {
    "name": "ipython",
    "version": 3
   },
   "file_extension": ".py",
   "mimetype": "text/x-python",
   "name": "python",
   "nbconvert_exporter": "python",
   "pygments_lexer": "ipython3",
   "version": "3.13.0"
  }
 },
 "nbformat": 4,
 "nbformat_minor": 2
}
