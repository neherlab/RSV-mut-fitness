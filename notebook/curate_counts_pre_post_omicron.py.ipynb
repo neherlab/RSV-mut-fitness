{
 "cells": [
  {
   "cell_type": "markdown",
   "metadata": {},
   "source": [
    "# Define pre-post Omicron curated counts datasets"
   ]
  },
  {
   "cell_type": "markdown",
   "metadata": {},
   "source": [
    "## Inputs from Snakemake"
   ]
  },
  {
   "cell_type": "code",
   "execution_count": null,
   "metadata": {},
   "outputs": [],
   "source": [
    "counts_df_file = snakemake.input.mut_counts\n",
    "clade_founder = snakemake.input.clade_founder\n",
    "outfile_pre_omicron = snakemake.output.pre_omicron\n",
    "outfile_omicron = snakemake.output.omicron"
   ]
  },
  {
   "cell_type": "markdown",
   "metadata": {},
   "source": [
    "## Read in Python modules"
   ]
  },
  {
   "cell_type": "code",
   "execution_count": null,
   "metadata": {},
   "outputs": [],
   "source": [
    "import os\n",
    "import pandas as pd"
   ]
  },
  {
   "cell_type": "markdown",
   "metadata": {},
   "source": [
    "## Read-in counts and clade founders"
   ]
  },
  {
   "cell_type": "code",
   "execution_count": null,
   "metadata": {},
   "outputs": [],
   "source": [
    "# Read in data\n",
    "counts_df = pd.read_csv(counts_df_file, low_memory=False)"
   ]
  },
  {
   "cell_type": "code",
   "execution_count": null,
   "metadata": {},
   "outputs": [],
   "source": [
    "# Read in clade founder\n",
    "founder_df = pd.read_csv(clade_founder)"
   ]
  },
  {
   "cell_type": "markdown",
   "metadata": {},
   "source": [
    "## Curate counts data"
   ]
  },
  {
   "cell_type": "markdown",
   "metadata": {},
   "source": [
    "Determine conserved sites"
   ]
  },
  {
   "cell_type": "code",
   "execution_count": null,
   "metadata": {},
   "outputs": [],
   "source": [
    "# Identify sites where the codon and motif are conserved across all clade founders\n",
    "# by subsetting data to entries with identical codons/motifs to reference, then\n",
    "# identifying sites that still have entries for all clades\n",
    "data = founder_df[\n",
    "    (founder_df['codon'] == founder_df['ref_codon']) &\n",
    "    (founder_df['motif'] == founder_df['ref_motif'])\n",
    "]\n",
    "site_counts = data['nt_site'].value_counts()\n",
    "nclades = len(founder_df['clade'].unique())\n",
    "conserved_sites = site_counts[site_counts == nclades].index"
   ]
  },
  {
   "cell_type": "markdown",
   "metadata": {},
   "source": [
    "Ignore sites that are annotated as being masked in any clade of the UShER tree (`masked_in_usher == True`), are annotated for exclusion (`exclude == True`), or were identified to highly homoplastic by De Maio et al. (https://virological.org/t/issues-with-sars-cov-2-sequencing-data/473)"
   ]
  },
  {
   "cell_type": "code",
   "execution_count": null,
   "metadata": {},
   "outputs": [],
   "source": [
    "# Ignore sites that are masked or excluded in any clade of the UShER tree\n",
    "sites_to_ignore = list(counts_df[\n",
    "    (counts_df['masked_in_usher'] == True) |\n",
    "    (counts_df['exclude'] == True)\n",
    "]['nt_site'].unique())\n",
    "\n",
    "# Homoplastic sites from De Maio et al., which we will also ignore\n",
    "sites_to_ignore += [\n",
    "    187, 1059, 2094, 3037, 3130, 6990, 8022, 10323, 10741, 11074, 13408,\n",
    "    14786, 19684, 20148, 21137, 24034, 24378, 25563, 26144, 26461, 26681, 28077,\n",
    "    28826, 28854, 29700, 4050, 13402, 11083, 15324, 21575\n",
    "]\n",
    "\n",
    "# Retain only non-excluded and conserved sites\n",
    "curated_counts_df = counts_df[\n",
    "    counts_df['nt_site'].isin(conserved_sites) &\n",
    "    ~(counts_df['nt_site'].isin(sites_to_ignore))\n",
    "]\n",
    "\n",
    "curated_counts_df.head()"
   ]
  },
  {
   "cell_type": "markdown",
   "metadata": {},
   "source": [
    "Create two dataframes of curated counts:\n",
    "\n",
    "* Cluster of pre-Omicron clades\n",
    "* Cluster of Omicron clades\n",
    "\n",
    "Mutation counts are aggregated accros clades belonging to the same cluster"
   ]
  },
  {
   "cell_type": "code",
   "execution_count": null,
   "metadata": {},
   "outputs": [],
   "source": [
    "# Split Omicron/non-Omicron clades\n",
    "curated_pre_omicron = curated_counts_df.query('pre_omicron_or_omicron == \"pre_omicron\"')\n",
    "curated_omicron = curated_counts_df.query('pre_omicron_or_omicron == \"omicron\"')\n",
    "\n",
    "# Check that motifs are conserved\n",
    "assert sum(curated_pre_omicron['motif'] != curated_pre_omicron['ref_motif']) == 0\n",
    "assert sum(curated_omicron['motif'] != curated_omicron['ref_motif']) == 0\n",
    "\n",
    "# Aggregate counts across all clades\n",
    "ignore_cols = [\n",
    "    'expected_count', 'actual_count', 'count_terminal', 'count_non_terminal', 'mean_log_size',\n",
    "    'clade', 'pre_omicron_or_omicron'\n",
    "]\n",
    "groupby_cols = [\n",
    "    col for col in curated_counts_df.columns.values\n",
    "    if col not in ignore_cols\n",
    "]\n",
    "curated_pre_omicron = curated_pre_omicron.groupby(groupby_cols, as_index=False).agg('sum', numeric_only=True)\n",
    "curated_omicron = curated_omicron.groupby(groupby_cols, as_index=False).agg('sum', numeric_only=True)\n",
    "\n"
   ]
  },
  {
   "cell_type": "code",
   "execution_count": null,
   "metadata": {},
   "outputs": [],
   "source": [
    "# Check there are no duplicate n.t. mutations\n",
    "assert sum(curated_pre_omicron['nt_mutation'].duplicated(keep=False)) == 0\n",
    "assert sum(curated_omicron['nt_mutation'].duplicated(keep=False)) == 0"
   ]
  },
  {
   "cell_type": "markdown",
   "metadata": {},
   "source": [
    "Summary statistics of mutations in dataset"
   ]
  },
  {
   "cell_type": "code",
   "execution_count": null,
   "metadata": {},
   "outputs": [],
   "source": [
    "\n",
    "print('Number of unique muts:')\n",
    "print('In the full dataset:', len(counts_df['nt_mutation'].unique()))\n",
    "print('In the curated pre-omicron dataset:', len(curated_pre_omicron['nt_mutation'].unique()))\n",
    "print('In the curated omicron dataset:', len(curated_omicron['nt_mutation'].unique()))"
   ]
  },
  {
   "cell_type": "code",
   "execution_count": null,
   "metadata": {},
   "outputs": [],
   "source": [
    "print('Number of curated mutations pre-omicron per category:')\n",
    "curated_pre_omicron['mut_class'].value_counts()"
   ]
  },
  {
   "cell_type": "code",
   "execution_count": null,
   "metadata": {},
   "outputs": [],
   "source": [
    "print('Number of curated mutations omicron per category:')\n",
    "curated_omicron['mut_class'].value_counts()"
   ]
  },
  {
   "cell_type": "markdown",
   "metadata": {},
   "source": [
    "Save curated counts dataframes"
   ]
  },
  {
   "cell_type": "code",
   "execution_count": null,
   "metadata": {},
   "outputs": [],
   "source": [
    "# Drop columns for site exclusions and masking\n",
    "curated_pre_omicron.drop(columns=['exclude', 'masked_in_usher'], inplace=True)\n",
    "curated_omicron.drop(columns=['exclude', 'masked_in_usher'], inplace=True)"
   ]
  },
  {
   "cell_type": "code",
   "execution_count": null,
   "metadata": {},
   "outputs": [],
   "source": [
    "# Write curated dataframes to file\n",
    "if not os.path.isfile(outfile_pre_omicron):\n",
    "    curated_pre_omicron.to_csv(outfile_pre_omicron, index=False)\n",
    "\n",
    "if not os.path.isfile(outfile_omicron):\n",
    "    curated_omicron.to_csv(outfile_omicron, index=False)\n"
   ]
  },
  {
   "cell_type": "code",
   "execution_count": null,
   "metadata": {},
   "outputs": [],
   "source": []
  }
 ],
 "metadata": {
  "kernelspec": {
   "display_name": "SARS2-refined-fitness",
   "language": "python",
   "name": "python3"
  },
  "language_info": {
   "codemirror_mode": {
    "name": "ipython",
    "version": 3
   },
   "file_extension": ".py",
   "mimetype": "text/x-python",
   "name": "python",
   "nbconvert_exporter": "python",
   "pygments_lexer": "ipython3",
   "version": "3.10.15"
  }
 },
 "nbformat": 4,
 "nbformat_minor": 2
}
