{
 "cells": [
  {
   "cell_type": "markdown",
   "metadata": {},
   "source": [
    "# Notebook for estimating probabilistic fitness"
   ]
  },
  {
   "cell_type": "markdown",
   "metadata": {},
   "source": [
    "## Snakemake input"
   ]
  },
  {
   "cell_type": "code",
   "execution_count": null,
   "metadata": {},
   "outputs": [],
   "source": [
    "clades = snakemake.params.clades\n",
    "cluster = snakemake.params.cluster\n",
    "counts_df = snakemake.input.counts_df\n",
    "output = snakemake.output.cluster_counts"
   ]
  },
  {
   "cell_type": "markdown",
   "metadata": {},
   "source": [
    "## Import packages"
   ]
  },
  {
   "cell_type": "code",
   "execution_count": null,
   "metadata": {},
   "outputs": [],
   "source": [
    "import pandas as pd"
   ]
  },
  {
   "cell_type": "markdown",
   "metadata": {},
   "source": [
    "## Import cladewise mutations table"
   ]
  },
  {
   "cell_type": "code",
   "execution_count": null,
   "metadata": {},
   "outputs": [],
   "source": [
    "muts_by_clade = pd.read_csv(counts_df, low_memory=False)"
   ]
  },
  {
   "cell_type": "code",
   "execution_count": null,
   "metadata": {},
   "outputs": [],
   "source": [
    "muts_by_clade"
   ]
  },
  {
   "cell_type": "markdown",
   "metadata": {},
   "source": [
    "Ignore sites that are annotated as being masked in any clade of the UShER tree (`masked_in_usher == True`), or are annotated for exclusion (`exclude == True`)"
   ]
  },
  {
   "cell_type": "code",
   "execution_count": null,
   "metadata": {},
   "outputs": [],
   "source": [
    "muts_by_clade = muts_by_clade.query('not exclude').query('not masked_in_usher')"
   ]
  },
  {
   "cell_type": "markdown",
   "metadata": {},
   "source": [
    "## Aggregate counts for clades in cluster"
   ]
  },
  {
   "cell_type": "code",
   "execution_count": null,
   "metadata": {},
   "outputs": [],
   "source": [
    "group_cols = ['nt_mutation', 'gene', 'codon_site', 'aa_mutation', 'synonymous', 'noncoding']"
   ]
  },
  {
   "cell_type": "code",
   "execution_count": null,
   "metadata": {},
   "outputs": [],
   "source": [
    "nucleotides = ['A', 'C', 'G', 'T']"
   ]
  },
  {
   "cell_type": "code",
   "execution_count": null,
   "metadata": {},
   "outputs": [],
   "source": [
    "muts_by_clade_cluster = (muts_by_clade\n",
    "    .query(\"clade.isin(@clades)\")              # Selecting clades\n",
    "    .groupby(group_cols, as_index=False)    # Columns not be aggregated\n",
    "    .aggregate(                             # Aggregating counts\n",
    "        expected_count = pd.NamedAgg('expected_count', 'sum'),\n",
    "        predicted_count = pd.NamedAgg('predicted_count', 'sum'),\n",
    "        actual_count = pd.NamedAgg('actual_count', 'sum'),\n",
    "        tau_squared = pd.NamedAgg('tau_squared', 'mean')\n",
    "    )\n",
    ")\n",
    "muts_by_clade_cluster.insert(0, 'nt_site', muts_by_clade_cluster['nt_mutation'].apply(lambda x: int(x[1:-1])))\n",
    "muts_by_clade_cluster.insert(0, 'cluster', cluster)\n",
    "muts_by_clade_cluster['wt'] = pd.CategoricalIndex(muts_by_clade_cluster['nt_mutation'].apply(lambda x: x[0]), ordered=True, categories=nucleotides)\n",
    "muts_by_clade_cluster['mut'] = pd.CategoricalIndex(muts_by_clade_cluster['nt_mutation'].apply(lambda x: x[-1]), ordered=True, categories=nucleotides)\n",
    "muts_by_clade_cluster = muts_by_clade_cluster.sort_values(['nt_site', 'wt', 'mut']).reset_index(drop=True) # Ordering by site, wildtype and mutant nucleotides\n",
    "muts_by_clade_cluster.drop(columns=['wt', 'mut'], inplace=True)\n",
    "# Save dataframe\n",
    "muts_by_clade_cluster.to_csv(output, index=False)"
   ]
  },
  {
   "cell_type": "code",
   "execution_count": null,
   "metadata": {},
   "outputs": [],
   "source": []
  }
 ],
 "metadata": {
  "kernelspec": {
   "display_name": "SARS2-refined-fitness",
   "language": "python",
   "name": "python3"
  },
  "language_info": {
   "codemirror_mode": {
    "name": "ipython",
    "version": 3
   },
   "file_extension": ".py",
   "mimetype": "text/x-python",
   "name": "python",
   "nbconvert_exporter": "python",
   "pygments_lexer": "ipython3",
   "version": "3.10.15"
  }
 },
 "nbformat": 4,
 "nbformat_minor": 2
}
